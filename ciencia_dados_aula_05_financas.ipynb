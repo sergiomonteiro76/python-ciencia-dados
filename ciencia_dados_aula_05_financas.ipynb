{
  "nbformat": 4,
  "nbformat_minor": 0,
  "metadata": {
    "colab": {
      "provenance": []
    },
    "kernelspec": {
      "name": "python3",
      "display_name": "Python 3"
    },
    "language_info": {
      "name": "python"
    }
  },
  "cells": [
    {
      "cell_type": "markdown",
      "source": [
        "# **Ciência de Dados Aplicado à Finanças.**\n",
        "\n",
        "\n",
        "**prof: Sérgio Assunção Monteiro, D.Sc**\n",
        "\n",
        "**linkedin:** https://www.linkedin.com/in/sergio-assun%C3%A7%C3%A3o-monteiro-b781897b/\n",
        "\n",
        "**lattes:** http://lattes.cnpq.br/9489191035734025"
      ],
      "metadata": {
        "id": "uwgKnm7JWyJr"
      }
    },
    {
      "cell_type": "markdown",
      "source": [
        "# **Aquisição e Exploração de Dados**"
      ],
      "metadata": {
        "id": "F9iPD8l5W8Uu"
      }
    },
    {
      "cell_type": "code",
      "execution_count": null,
      "metadata": {
        "colab": {
          "base_uri": "https://localhost:8080/"
        },
        "id": "_CS4c_jmWsTI",
        "outputId": "279d9deb-0ae0-4bc3-f6da-0e5d3f4a545f"
      },
      "outputs": [
        {
          "output_type": "stream",
          "name": "stdout",
          "text": [
            "Looking in indexes: https://pypi.org/simple, https://us-python.pkg.dev/colab-wheels/public/simple/\n",
            "Collecting yfinance\n",
            "  Downloading yfinance-0.1.75-py2.py3-none-any.whl (28 kB)\n",
            "Requirement already satisfied: appdirs>=1.4.4 in /usr/local/lib/python3.7/dist-packages (from yfinance) (1.4.4)\n",
            "Requirement already satisfied: lxml>=4.5.1 in /usr/local/lib/python3.7/dist-packages (from yfinance) (4.9.1)\n",
            "Requirement already satisfied: multitasking>=0.0.7 in /usr/local/lib/python3.7/dist-packages (from yfinance) (0.0.11)\n",
            "Requirement already satisfied: pandas>=0.24.0 in /usr/local/lib/python3.7/dist-packages (from yfinance) (1.3.5)\n",
            "Collecting requests>=2.26\n",
            "  Downloading requests-2.28.1-py3-none-any.whl (62 kB)\n",
            "\u001b[K     |████████████████████████████████| 62 kB 2.9 MB/s \n",
            "\u001b[?25hRequirement already satisfied: numpy>=1.15 in /usr/local/lib/python3.7/dist-packages (from yfinance) (1.21.6)\n",
            "Requirement already satisfied: pytz>=2017.3 in /usr/local/lib/python3.7/dist-packages (from pandas>=0.24.0->yfinance) (2022.4)\n",
            "Requirement already satisfied: python-dateutil>=2.7.3 in /usr/local/lib/python3.7/dist-packages (from pandas>=0.24.0->yfinance) (2.8.2)\n",
            "Requirement already satisfied: six>=1.5 in /usr/local/lib/python3.7/dist-packages (from python-dateutil>=2.7.3->pandas>=0.24.0->yfinance) (1.15.0)\n",
            "Requirement already satisfied: idna<4,>=2.5 in /usr/local/lib/python3.7/dist-packages (from requests>=2.26->yfinance) (2.10)\n",
            "Requirement already satisfied: urllib3<1.27,>=1.21.1 in /usr/local/lib/python3.7/dist-packages (from requests>=2.26->yfinance) (1.24.3)\n",
            "Requirement already satisfied: charset-normalizer<3,>=2 in /usr/local/lib/python3.7/dist-packages (from requests>=2.26->yfinance) (2.1.1)\n",
            "Requirement already satisfied: certifi>=2017.4.17 in /usr/local/lib/python3.7/dist-packages (from requests>=2.26->yfinance) (2022.9.24)\n",
            "Installing collected packages: requests, yfinance\n",
            "  Attempting uninstall: requests\n",
            "    Found existing installation: requests 2.23.0\n",
            "    Uninstalling requests-2.23.0:\n",
            "      Successfully uninstalled requests-2.23.0\n",
            "Successfully installed requests-2.28.1 yfinance-0.1.75\n"
          ]
        }
      ],
      "source": [
        "# Instalando o yahoo finance\n",
        "!pip install yfinance --upgrade --no-cache-dir"
      ]
    },
    {
      "cell_type": "code",
      "source": [
        "import pandas as pd\n",
        "import matplotlib.pyplot as plt\n",
        "import yfinance as yf \n",
        "import requests"
      ],
      "metadata": {
        "id": "8PWWf2-Rdl9E"
      },
      "execution_count": null,
      "outputs": []
    },
    {
      "cell_type": "code",
      "source": [
        "url = \"https://investnews.com.br/financas/veja-a-lista-completa-dos-bdrs-disponiveis-para-pessoas-fisicas-na-b3/\"\n",
        "r = requests.get(url)\n",
        "html = r.text\n",
        "df_nomes_tickers = pd.read_html(html, header=0)[0]\n",
        "df_nomes_tickers.head(10)"
      ],
      "metadata": {
        "colab": {
          "base_uri": "https://localhost:8080/",
          "height": 363
        },
        "id": "TIiGxdIJdsdS",
        "outputId": "3aaa4cf7-db50-448c-c197-c3192d948a30"
      },
      "execution_count": null,
      "outputs": [
        {
          "output_type": "execute_result",
          "data": {
            "text/plain": [
              "                  EMPRESA  CÓDIGO                           SETOR  \\\n",
              "0                      3M  MMMC34         Indústria diversificada   \n",
              "1                AB INBEV  ABUD34                         Bebidas   \n",
              "2                 ABB LTD  A1BB34                      Industrial   \n",
              "3                  ABBOTT  ABTT34                   Farmacêuticos   \n",
              "4                  ABBVIE  ABBV34  Medicamentos e Outros Produtos   \n",
              "5             ABIOMED INC  A1BM34                           Saúde   \n",
              "6              ACTIVISION  ATVI34                      Tecnologia   \n",
              "7               ADOBE INC  ADBE34                      Tecnologia   \n",
              "8  ADVANCE AUTO PARTS INC  A1AP34               Peças Automotivas   \n",
              "9            ADVANCED MIC  A1MD34                      Tecnologia   \n",
              "\n",
              "  PAÍS DE ORIGEM  \n",
              "0            EUA  \n",
              "1        Bélgica  \n",
              "2    Switzerland  \n",
              "3            EUA  \n",
              "4            EUA  \n",
              "5            EUA  \n",
              "6            EUA  \n",
              "7            EUA  \n",
              "8            EUA  \n",
              "9            EUA  "
            ],
            "text/html": [
              "\n",
              "  <div id=\"df-2c479589-04b8-4f97-bf5b-50aca48f7b5d\">\n",
              "    <div class=\"colab-df-container\">\n",
              "      <div>\n",
              "<style scoped>\n",
              "    .dataframe tbody tr th:only-of-type {\n",
              "        vertical-align: middle;\n",
              "    }\n",
              "\n",
              "    .dataframe tbody tr th {\n",
              "        vertical-align: top;\n",
              "    }\n",
              "\n",
              "    .dataframe thead th {\n",
              "        text-align: right;\n",
              "    }\n",
              "</style>\n",
              "<table border=\"1\" class=\"dataframe\">\n",
              "  <thead>\n",
              "    <tr style=\"text-align: right;\">\n",
              "      <th></th>\n",
              "      <th>EMPRESA</th>\n",
              "      <th>CÓDIGO</th>\n",
              "      <th>SETOR</th>\n",
              "      <th>PAÍS DE ORIGEM</th>\n",
              "    </tr>\n",
              "  </thead>\n",
              "  <tbody>\n",
              "    <tr>\n",
              "      <th>0</th>\n",
              "      <td>3M</td>\n",
              "      <td>MMMC34</td>\n",
              "      <td>Indústria diversificada</td>\n",
              "      <td>EUA</td>\n",
              "    </tr>\n",
              "    <tr>\n",
              "      <th>1</th>\n",
              "      <td>AB INBEV</td>\n",
              "      <td>ABUD34</td>\n",
              "      <td>Bebidas</td>\n",
              "      <td>Bélgica</td>\n",
              "    </tr>\n",
              "    <tr>\n",
              "      <th>2</th>\n",
              "      <td>ABB LTD</td>\n",
              "      <td>A1BB34</td>\n",
              "      <td>Industrial</td>\n",
              "      <td>Switzerland</td>\n",
              "    </tr>\n",
              "    <tr>\n",
              "      <th>3</th>\n",
              "      <td>ABBOTT</td>\n",
              "      <td>ABTT34</td>\n",
              "      <td>Farmacêuticos</td>\n",
              "      <td>EUA</td>\n",
              "    </tr>\n",
              "    <tr>\n",
              "      <th>4</th>\n",
              "      <td>ABBVIE</td>\n",
              "      <td>ABBV34</td>\n",
              "      <td>Medicamentos e Outros Produtos</td>\n",
              "      <td>EUA</td>\n",
              "    </tr>\n",
              "    <tr>\n",
              "      <th>5</th>\n",
              "      <td>ABIOMED INC</td>\n",
              "      <td>A1BM34</td>\n",
              "      <td>Saúde</td>\n",
              "      <td>EUA</td>\n",
              "    </tr>\n",
              "    <tr>\n",
              "      <th>6</th>\n",
              "      <td>ACTIVISION</td>\n",
              "      <td>ATVI34</td>\n",
              "      <td>Tecnologia</td>\n",
              "      <td>EUA</td>\n",
              "    </tr>\n",
              "    <tr>\n",
              "      <th>7</th>\n",
              "      <td>ADOBE INC</td>\n",
              "      <td>ADBE34</td>\n",
              "      <td>Tecnologia</td>\n",
              "      <td>EUA</td>\n",
              "    </tr>\n",
              "    <tr>\n",
              "      <th>8</th>\n",
              "      <td>ADVANCE AUTO PARTS INC</td>\n",
              "      <td>A1AP34</td>\n",
              "      <td>Peças Automotivas</td>\n",
              "      <td>EUA</td>\n",
              "    </tr>\n",
              "    <tr>\n",
              "      <th>9</th>\n",
              "      <td>ADVANCED MIC</td>\n",
              "      <td>A1MD34</td>\n",
              "      <td>Tecnologia</td>\n",
              "      <td>EUA</td>\n",
              "    </tr>\n",
              "  </tbody>\n",
              "</table>\n",
              "</div>\n",
              "      <button class=\"colab-df-convert\" onclick=\"convertToInteractive('df-2c479589-04b8-4f97-bf5b-50aca48f7b5d')\"\n",
              "              title=\"Convert this dataframe to an interactive table.\"\n",
              "              style=\"display:none;\">\n",
              "        \n",
              "  <svg xmlns=\"http://www.w3.org/2000/svg\" height=\"24px\"viewBox=\"0 0 24 24\"\n",
              "       width=\"24px\">\n",
              "    <path d=\"M0 0h24v24H0V0z\" fill=\"none\"/>\n",
              "    <path d=\"M18.56 5.44l.94 2.06.94-2.06 2.06-.94-2.06-.94-.94-2.06-.94 2.06-2.06.94zm-11 1L8.5 8.5l.94-2.06 2.06-.94-2.06-.94L8.5 2.5l-.94 2.06-2.06.94zm10 10l.94 2.06.94-2.06 2.06-.94-2.06-.94-.94-2.06-.94 2.06-2.06.94z\"/><path d=\"M17.41 7.96l-1.37-1.37c-.4-.4-.92-.59-1.43-.59-.52 0-1.04.2-1.43.59L10.3 9.45l-7.72 7.72c-.78.78-.78 2.05 0 2.83L4 21.41c.39.39.9.59 1.41.59.51 0 1.02-.2 1.41-.59l7.78-7.78 2.81-2.81c.8-.78.8-2.07 0-2.86zM5.41 20L4 18.59l7.72-7.72 1.47 1.35L5.41 20z\"/>\n",
              "  </svg>\n",
              "      </button>\n",
              "      \n",
              "  <style>\n",
              "    .colab-df-container {\n",
              "      display:flex;\n",
              "      flex-wrap:wrap;\n",
              "      gap: 12px;\n",
              "    }\n",
              "\n",
              "    .colab-df-convert {\n",
              "      background-color: #E8F0FE;\n",
              "      border: none;\n",
              "      border-radius: 50%;\n",
              "      cursor: pointer;\n",
              "      display: none;\n",
              "      fill: #1967D2;\n",
              "      height: 32px;\n",
              "      padding: 0 0 0 0;\n",
              "      width: 32px;\n",
              "    }\n",
              "\n",
              "    .colab-df-convert:hover {\n",
              "      background-color: #E2EBFA;\n",
              "      box-shadow: 0px 1px 2px rgba(60, 64, 67, 0.3), 0px 1px 3px 1px rgba(60, 64, 67, 0.15);\n",
              "      fill: #174EA6;\n",
              "    }\n",
              "\n",
              "    [theme=dark] .colab-df-convert {\n",
              "      background-color: #3B4455;\n",
              "      fill: #D2E3FC;\n",
              "    }\n",
              "\n",
              "    [theme=dark] .colab-df-convert:hover {\n",
              "      background-color: #434B5C;\n",
              "      box-shadow: 0px 1px 3px 1px rgba(0, 0, 0, 0.15);\n",
              "      filter: drop-shadow(0px 1px 2px rgba(0, 0, 0, 0.3));\n",
              "      fill: #FFFFFF;\n",
              "    }\n",
              "  </style>\n",
              "\n",
              "      <script>\n",
              "        const buttonEl =\n",
              "          document.querySelector('#df-2c479589-04b8-4f97-bf5b-50aca48f7b5d button.colab-df-convert');\n",
              "        buttonEl.style.display =\n",
              "          google.colab.kernel.accessAllowed ? 'block' : 'none';\n",
              "\n",
              "        async function convertToInteractive(key) {\n",
              "          const element = document.querySelector('#df-2c479589-04b8-4f97-bf5b-50aca48f7b5d');\n",
              "          const dataTable =\n",
              "            await google.colab.kernel.invokeFunction('convertToInteractive',\n",
              "                                                     [key], {});\n",
              "          if (!dataTable) return;\n",
              "\n",
              "          const docLinkHtml = 'Like what you see? Visit the ' +\n",
              "            '<a target=\"_blank\" href=https://colab.research.google.com/notebooks/data_table.ipynb>data table notebook</a>'\n",
              "            + ' to learn more about interactive tables.';\n",
              "          element.innerHTML = '';\n",
              "          dataTable['output_type'] = 'display_data';\n",
              "          await google.colab.output.renderOutput(dataTable, element);\n",
              "          const docLink = document.createElement('div');\n",
              "          docLink.innerHTML = docLinkHtml;\n",
              "          element.appendChild(docLink);\n",
              "        }\n",
              "      </script>\n",
              "    </div>\n",
              "  </div>\n",
              "  "
            ]
          },
          "metadata": {},
          "execution_count": 3
        }
      ]
    },
    {
      "cell_type": "code",
      "source": [
        "codigos = df_nomes_tickers['CÓDIGO']\n",
        "codigo_especifico = codigos[1]\n",
        "print(codigo_especifico)"
      ],
      "metadata": {
        "colab": {
          "base_uri": "https://localhost:8080/"
        },
        "id": "wTlVs2pzdvVx",
        "outputId": "65cf3850-47e7-4234-b1f5-4d6ca91df34d"
      },
      "execution_count": null,
      "outputs": [
        {
          "output_type": "stream",
          "name": "stdout",
          "text": [
            "ABUD34\n"
          ]
        }
      ]
    },
    {
      "cell_type": "code",
      "source": [
        "codigo_especifico\n",
        "codigo = [str(codigo_especifico+'.SA')]\n",
        "codigo"
      ],
      "metadata": {
        "colab": {
          "base_uri": "https://localhost:8080/"
        },
        "id": "REi6xaXsdyQ5",
        "outputId": "064dc042-0b2c-4d14-bd48-d3f64d0e0230"
      },
      "execution_count": null,
      "outputs": [
        {
          "output_type": "execute_result",
          "data": {
            "text/plain": [
              "['ABUD34.SA']"
            ]
          },
          "metadata": {},
          "execution_count": 5
        }
      ]
    },
    {
      "cell_type": "code",
      "source": [
        "df = yf.download(codigo[0], \n",
        "                 start='2021-08-01', \n",
        "                 end='2021-10-01',\n",
        "                 group_by=\"ticker\"); # \";\" serve para não exibir os dados"
      ],
      "metadata": {
        "colab": {
          "base_uri": "https://localhost:8080/"
        },
        "id": "3bgHGoqBd084",
        "outputId": "7b0a9ca3-02e6-4a40-9279-3abd0a785f69"
      },
      "execution_count": null,
      "outputs": [
        {
          "output_type": "stream",
          "name": "stdout",
          "text": [
            "\r[*********************100%***********************]  1 of 1 completed\n"
          ]
        }
      ]
    },
    {
      "cell_type": "code",
      "source": [
        "df.head()"
      ],
      "metadata": {
        "colab": {
          "base_uri": "https://localhost:8080/",
          "height": 237
        },
        "id": "rRu_tf7ud26_",
        "outputId": "f7d2251b-8c16-4a97-d89f-38d305a7fc8e"
      },
      "execution_count": null,
      "outputs": [
        {
          "output_type": "execute_result",
          "data": {
            "text/plain": [
              "                                Open       High        Low      Close  \\\n",
              "Date                                                                    \n",
              "2021-08-02 00:00:00-03:00  54.500000  54.500000  53.950001  53.950001   \n",
              "2021-08-03 00:00:00-03:00  53.950001  54.599998  53.939999  54.250000   \n",
              "2021-08-04 00:00:00-03:00  54.099998  54.099998  53.290001  53.290001   \n",
              "2021-08-05 00:00:00-03:00  53.150002  53.750000  52.900002  53.650002   \n",
              "2021-08-06 00:00:00-03:00  54.910000  54.910000  53.700001  53.849998   \n",
              "\n",
              "                           Adj Close  Volume  \n",
              "Date                                          \n",
              "2021-08-02 00:00:00-03:00  53.474136     165  \n",
              "2021-08-03 00:00:00-03:00  53.771488    1289  \n",
              "2021-08-04 00:00:00-03:00  52.819958     223  \n",
              "2021-08-05 00:00:00-03:00  53.176785     110  \n",
              "2021-08-06 00:00:00-03:00  53.375015     567  "
            ],
            "text/html": [
              "\n",
              "  <div id=\"df-9ab38682-05a6-4a38-865c-31b495816101\">\n",
              "    <div class=\"colab-df-container\">\n",
              "      <div>\n",
              "<style scoped>\n",
              "    .dataframe tbody tr th:only-of-type {\n",
              "        vertical-align: middle;\n",
              "    }\n",
              "\n",
              "    .dataframe tbody tr th {\n",
              "        vertical-align: top;\n",
              "    }\n",
              "\n",
              "    .dataframe thead th {\n",
              "        text-align: right;\n",
              "    }\n",
              "</style>\n",
              "<table border=\"1\" class=\"dataframe\">\n",
              "  <thead>\n",
              "    <tr style=\"text-align: right;\">\n",
              "      <th></th>\n",
              "      <th>Open</th>\n",
              "      <th>High</th>\n",
              "      <th>Low</th>\n",
              "      <th>Close</th>\n",
              "      <th>Adj Close</th>\n",
              "      <th>Volume</th>\n",
              "    </tr>\n",
              "    <tr>\n",
              "      <th>Date</th>\n",
              "      <th></th>\n",
              "      <th></th>\n",
              "      <th></th>\n",
              "      <th></th>\n",
              "      <th></th>\n",
              "      <th></th>\n",
              "    </tr>\n",
              "  </thead>\n",
              "  <tbody>\n",
              "    <tr>\n",
              "      <th>2021-08-02 00:00:00-03:00</th>\n",
              "      <td>54.500000</td>\n",
              "      <td>54.500000</td>\n",
              "      <td>53.950001</td>\n",
              "      <td>53.950001</td>\n",
              "      <td>53.474136</td>\n",
              "      <td>165</td>\n",
              "    </tr>\n",
              "    <tr>\n",
              "      <th>2021-08-03 00:00:00-03:00</th>\n",
              "      <td>53.950001</td>\n",
              "      <td>54.599998</td>\n",
              "      <td>53.939999</td>\n",
              "      <td>54.250000</td>\n",
              "      <td>53.771488</td>\n",
              "      <td>1289</td>\n",
              "    </tr>\n",
              "    <tr>\n",
              "      <th>2021-08-04 00:00:00-03:00</th>\n",
              "      <td>54.099998</td>\n",
              "      <td>54.099998</td>\n",
              "      <td>53.290001</td>\n",
              "      <td>53.290001</td>\n",
              "      <td>52.819958</td>\n",
              "      <td>223</td>\n",
              "    </tr>\n",
              "    <tr>\n",
              "      <th>2021-08-05 00:00:00-03:00</th>\n",
              "      <td>53.150002</td>\n",
              "      <td>53.750000</td>\n",
              "      <td>52.900002</td>\n",
              "      <td>53.650002</td>\n",
              "      <td>53.176785</td>\n",
              "      <td>110</td>\n",
              "    </tr>\n",
              "    <tr>\n",
              "      <th>2021-08-06 00:00:00-03:00</th>\n",
              "      <td>54.910000</td>\n",
              "      <td>54.910000</td>\n",
              "      <td>53.700001</td>\n",
              "      <td>53.849998</td>\n",
              "      <td>53.375015</td>\n",
              "      <td>567</td>\n",
              "    </tr>\n",
              "  </tbody>\n",
              "</table>\n",
              "</div>\n",
              "      <button class=\"colab-df-convert\" onclick=\"convertToInteractive('df-9ab38682-05a6-4a38-865c-31b495816101')\"\n",
              "              title=\"Convert this dataframe to an interactive table.\"\n",
              "              style=\"display:none;\">\n",
              "        \n",
              "  <svg xmlns=\"http://www.w3.org/2000/svg\" height=\"24px\"viewBox=\"0 0 24 24\"\n",
              "       width=\"24px\">\n",
              "    <path d=\"M0 0h24v24H0V0z\" fill=\"none\"/>\n",
              "    <path d=\"M18.56 5.44l.94 2.06.94-2.06 2.06-.94-2.06-.94-.94-2.06-.94 2.06-2.06.94zm-11 1L8.5 8.5l.94-2.06 2.06-.94-2.06-.94L8.5 2.5l-.94 2.06-2.06.94zm10 10l.94 2.06.94-2.06 2.06-.94-2.06-.94-.94-2.06-.94 2.06-2.06.94z\"/><path d=\"M17.41 7.96l-1.37-1.37c-.4-.4-.92-.59-1.43-.59-.52 0-1.04.2-1.43.59L10.3 9.45l-7.72 7.72c-.78.78-.78 2.05 0 2.83L4 21.41c.39.39.9.59 1.41.59.51 0 1.02-.2 1.41-.59l7.78-7.78 2.81-2.81c.8-.78.8-2.07 0-2.86zM5.41 20L4 18.59l7.72-7.72 1.47 1.35L5.41 20z\"/>\n",
              "  </svg>\n",
              "      </button>\n",
              "      \n",
              "  <style>\n",
              "    .colab-df-container {\n",
              "      display:flex;\n",
              "      flex-wrap:wrap;\n",
              "      gap: 12px;\n",
              "    }\n",
              "\n",
              "    .colab-df-convert {\n",
              "      background-color: #E8F0FE;\n",
              "      border: none;\n",
              "      border-radius: 50%;\n",
              "      cursor: pointer;\n",
              "      display: none;\n",
              "      fill: #1967D2;\n",
              "      height: 32px;\n",
              "      padding: 0 0 0 0;\n",
              "      width: 32px;\n",
              "    }\n",
              "\n",
              "    .colab-df-convert:hover {\n",
              "      background-color: #E2EBFA;\n",
              "      box-shadow: 0px 1px 2px rgba(60, 64, 67, 0.3), 0px 1px 3px 1px rgba(60, 64, 67, 0.15);\n",
              "      fill: #174EA6;\n",
              "    }\n",
              "\n",
              "    [theme=dark] .colab-df-convert {\n",
              "      background-color: #3B4455;\n",
              "      fill: #D2E3FC;\n",
              "    }\n",
              "\n",
              "    [theme=dark] .colab-df-convert:hover {\n",
              "      background-color: #434B5C;\n",
              "      box-shadow: 0px 1px 3px 1px rgba(0, 0, 0, 0.15);\n",
              "      filter: drop-shadow(0px 1px 2px rgba(0, 0, 0, 0.3));\n",
              "      fill: #FFFFFF;\n",
              "    }\n",
              "  </style>\n",
              "\n",
              "      <script>\n",
              "        const buttonEl =\n",
              "          document.querySelector('#df-9ab38682-05a6-4a38-865c-31b495816101 button.colab-df-convert');\n",
              "        buttonEl.style.display =\n",
              "          google.colab.kernel.accessAllowed ? 'block' : 'none';\n",
              "\n",
              "        async function convertToInteractive(key) {\n",
              "          const element = document.querySelector('#df-9ab38682-05a6-4a38-865c-31b495816101');\n",
              "          const dataTable =\n",
              "            await google.colab.kernel.invokeFunction('convertToInteractive',\n",
              "                                                     [key], {});\n",
              "          if (!dataTable) return;\n",
              "\n",
              "          const docLinkHtml = 'Like what you see? Visit the ' +\n",
              "            '<a target=\"_blank\" href=https://colab.research.google.com/notebooks/data_table.ipynb>data table notebook</a>'\n",
              "            + ' to learn more about interactive tables.';\n",
              "          element.innerHTML = '';\n",
              "          dataTable['output_type'] = 'display_data';\n",
              "          await google.colab.output.renderOutput(dataTable, element);\n",
              "          const docLink = document.createElement('div');\n",
              "          docLink.innerHTML = docLinkHtml;\n",
              "          element.appendChild(docLink);\n",
              "        }\n",
              "      </script>\n",
              "    </div>\n",
              "  </div>\n",
              "  "
            ]
          },
          "metadata": {},
          "execution_count": 7
        }
      ]
    },
    {
      "cell_type": "markdown",
      "source": [
        "**Dicionário das variáveis:**\n",
        "\n",
        "*   Date – dia.\n",
        "*   Open – O valor de abertura da ação no dia.\n",
        "*   High – Valor máximo que a ação chegou no dia.\n",
        "*   Low – O valor mínimo da ação no dia.\n",
        "*   Close – Preço de fechamento no dia.\n",
        "*   Adj Close – Preço de fechamento do dia ajustado.\n",
        "*   Volume – Volume negociado no dia."
      ],
      "metadata": {
        "id": "nQnrOj8EeslS"
      }
    },
    {
      "cell_type": "code",
      "source": [
        "df['Close'].plot(title = str(codigo)+ \" valor de fechamento\")"
      ],
      "metadata": {
        "colab": {
          "base_uri": "https://localhost:8080/",
          "height": 318
        },
        "id": "wthAhnAzd5sm",
        "outputId": "a4a69858-c0c4-4db1-858b-5a242cd3ec7c"
      },
      "execution_count": null,
      "outputs": [
        {
          "output_type": "execute_result",
          "data": {
            "text/plain": [
              "<matplotlib.axes._subplots.AxesSubplot at 0x7fe9c6c8f590>"
            ]
          },
          "metadata": {},
          "execution_count": 8
        },
        {
          "output_type": "display_data",
          "data": {
            "text/plain": [
              "<Figure size 432x288 with 1 Axes>"
            ],
            "image/png": "[encoded data removed]"
          },
          "metadata": {
            "needs_background": "light"
          }
        }
      ]
    },
    {
      "cell_type": "code",
      "source": [
        "import seaborn as sns\n",
        "sns.set_theme(style=\"darkgrid\")\n",
        "sns.distplot(df['Close'])"
      ],
      "metadata": {
        "colab": {
          "base_uri": "https://localhost:8080/",
          "height": 357
        },
        "id": "4pV7vzmFgcJl",
        "outputId": "5ba92a2a-5bee-4741-d299-26a1f570d255"
      },
      "execution_count": null,
      "outputs": [
        {
          "output_type": "stream",
          "name": "stderr",
          "text": [
            "/usr/local/lib/python3.7/dist-packages/seaborn/distributions.py:2619: FutureWarning: `distplot` is a deprecated function and will be removed in a future version. Please adapt your code to use either `displot` (a figure-level function with similar flexibility) or `histplot` (an axes-level function for histograms).\n",
            "  warnings.warn(msg, FutureWarning)\n"
          ]
        },
        {
          "output_type": "execute_result",
          "data": {
            "text/plain": [
              "<matplotlib.axes._subplots.AxesSubplot at 0x7fe9ba40ebd0>"
            ]
          },
          "metadata": {},
          "execution_count": 9
        },
        {
          "output_type": "display_data",
          "data": {
            "text/plain": [
              "<Figure size 432x288 with 1 Axes>"
            ],
            "image/png": "[encoded data removed]"
          },
          "metadata": {}
        }
      ]
    },
    {
      "cell_type": "code",
      "source": [
        "df['Close'].describe()"
      ],
      "metadata": {
        "colab": {
          "base_uri": "https://localhost:8080/"
        },
        "id": "XZCiq1aSiGcV",
        "outputId": "6e67d343-2bfa-41f9-f855-d56a535efb67"
      },
      "execution_count": null,
      "outputs": [
        {
          "output_type": "execute_result",
          "data": {
            "text/plain": [
              "count    43.000000\n",
              "mean     52.640000\n",
              "std       1.358382\n",
              "min      50.049999\n",
              "25%      51.650000\n",
              "50%      53.150002\n",
              "75%      53.650002\n",
              "max      54.650002\n",
              "Name: Close, dtype: float64"
            ]
          },
          "metadata": {},
          "execution_count": 10
        }
      ]
    },
    {
      "cell_type": "code",
      "source": [
        "import plotly.io as pio\n",
        "pio.renderers"
      ],
      "metadata": {
        "colab": {
          "base_uri": "https://localhost:8080/"
        },
        "id": "a38O4me7g25X",
        "outputId": "ea60f9a1-1545-4520-d53a-a115c1b4540d"
      },
      "execution_count": null,
      "outputs": [
        {
          "output_type": "execute_result",
          "data": {
            "text/plain": [
              "Renderers configuration\n",
              "-----------------------\n",
              "    Default renderer: 'colab'\n",
              "    Available renderers:\n",
              "        ['plotly_mimetype', 'jupyterlab', 'nteract', 'vscode',\n",
              "         'notebook', 'notebook_connected', 'kaggle', 'azure', 'colab',\n",
              "         'cocalc', 'databricks', 'json', 'png', 'jpeg', 'jpg', 'svg',\n",
              "         'pdf', 'browser', 'firefox', 'chrome', 'chromium', 'iframe',\n",
              "         'iframe_connected', 'sphinx_gallery', 'sphinx_gallery_png']"
            ]
          },
          "metadata": {},
          "execution_count": 11
        }
      ]
    },
    {
      "cell_type": "code",
      "source": [
        "import plotly.offline as py\n",
        "import plotly.graph_objs as go"
      ],
      "metadata": {
        "id": "4KMaBE8dh2bI"
      },
      "execution_count": null,
      "outputs": []
    },
    {
      "cell_type": "code",
      "source": [
        "dados = [go.Scatter(x=df.index, y=df['Close'])]\n",
        "py.iplot(dados)"
      ],
      "metadata": {
        "colab": {
          "base_uri": "https://localhost:8080/",
          "height": 542
        },
        "id": "kShm-noHh584",
        "outputId": "a8108796-9796-43b6-d2eb-e807e98b9a4f"
      },
      "execution_count": null,
      "outputs": [
        {
          "output_type": "display_data",
          "data": {
            "text/html": [
              "<html>\n",
              "<head><meta charset=\"utf-8\" /></head>\n",
              "<body>\n",
              "    <div>            <script src=\"https://cdnjs.cloudflare.com/ajax/libs/mathjax/2.7.5/MathJax.js?config=TeX-AMS-MML_SVG\"></script><script type=\"text/javascript\">if (window.MathJax) {MathJax.Hub.Config({SVG: {font: \"STIX-Web\"}});}</script>                <script type=\"text/javascript\">window.PlotlyConfig = {MathJaxConfig: 'local'};</script>\n",
              "        <script src=\"https://cdn.plot.ly/plotly-2.8.3.min.js\"></script>                <div id=\"2216a29b-9ca3-444b-9099-104bc225db42\" class=\"plotly-graph-div\" style=\"height:525px; width:100%;\"></div>            <script type=\"text/javascript\">                                    window.PLOTLYENV=window.PLOTLYENV || {};                                    if (document.getElementById(\"2216a29b-9ca3-444b-9099-104bc225db42\")) {                    Plotly.newPlot(                        \"2216a29b-9ca3-444b-9099-104bc225db42\",                        [{\"x\":[\"2021-08-02T00:00:00-03:00\",\"2021-08-03T00:00:00-03:00\",\"2021-08-04T00:00:00-03:00\",\"2021-08-05T00:00:00-03:00\",\"2021-08-06T00:00:00-03:00\",\"2021-08-09T00:00:00-03:00\",\"2021-08-10T00:00:00-03:00\",\"2021-08-11T00:00:00-03:00\",\"2021-08-12T00:00:00-03:00\",\"2021-08-13T00:00:00-03:00\",\"2021-08-16T00:00:00-03:00\",\"2021-08-17T00:00:00-03:00\",\"2021-08-18T00:00:00-03:00\",\"2021-08-19T00:00:00-03:00\",\"2021-08-20T00:00:00-03:00\",\"2021-08-23T00:00:00-03:00\",\"2021-08-24T00:00:00-03:00\",\"2021-08-25T00:00:00-03:00\",\"2021-08-26T00:00:00-03:00\",\"2021-08-27T00:00:00-03:00\",\"2021-08-30T00:00:00-03:00\",\"2021-08-31T00:00:00-03:00\",\"2021-09-01T00:00:00-03:00\",\"2021-09-02T00:00:00-03:00\",\"2021-09-03T00:00:00-03:00\",\"2021-09-06T00:00:00-03:00\",\"2021-09-08T00:00:00-03:00\",\"2021-09-09T00:00:00-03:00\",\"2021-09-10T00:00:00-03:00\",\"2021-09-13T00:00:00-03:00\",\"2021-09-14T00:00:00-03:00\",\"2021-09-15T00:00:00-03:00\",\"2021-09-16T00:00:00-03:00\",\"2021-09-17T00:00:00-03:00\",\"2021-09-20T00:00:00-03:00\",\"2021-09-21T00:00:00-03:00\",\"2021-09-22T00:00:00-03:00\",\"2021-09-23T00:00:00-03:00\",\"2021-09-24T00:00:00-03:00\",\"2021-09-27T00:00:00-03:00\",\"2021-09-28T00:00:00-03:00\",\"2021-09-29T00:00:00-03:00\",\"2021-09-30T00:00:00-03:00\"],\"y\":[53.95000076293945,54.25,53.290000915527344,53.650001525878906,53.849998474121094,53.29999923706055,53.08000183105469,53.5,53.650001525878906,54.25,54.650001525878906,53.65999984741211,54.650001525878906,54.25,54.029998779296875,54.650001525878906,53.25,53.25,53.150001525878906,53.25,53.0,52.779998779296875,53.40999984741211,52.13999938964844,51.70000076293945,52.099998474121094,51.900001525878906,50.5,50.33000183105469,50.75,50.29999923706055,50.04999923706055,50.400001525878906,51.04999923706055,50.7599983215332,51.0,51.900001525878906,51.95000076293945,51.599998474121094,53.25,53.20000076293945,52.349998474121094,51.540000915527344],\"type\":\"scatter\"}],                        {\"template\":{\"data\":{\"barpolar\":[{\"marker\":{\"line\":{\"color\":\"#E5ECF6\",\"width\":0.5},\"pattern\":{\"fillmode\":\"overlay\",\"size\":10,\"solidity\":0.2}},\"type\":\"barpolar\"}],\"bar\":[{\"error_x\":{\"color\":\"#2a3f5f\"},\"error_y\":{\"color\":\"#2a3f5f\"},\"marker\":{\"line\":{\"color\":\"#E5ECF6\",\"width\":0.5},\"pattern\":{\"fillmode\":\"overlay\",\"size\":10,\"solidity\":0.2}},\"type\":\"bar\"}],\"carpet\":[{\"aaxis\":{\"endlinecolor\":\"#2a3f5f\",\"gridcolor\":\"white\",\"linecolor\":\"white\",\"minorgridcolor\":\"white\",\"startlinecolor\":\"#2a3f5f\"},\"baxis\":{\"endlinecolor\":\"#2a3f5f\",\"gridcolor\":\"white\",\"linecolor\":\"white\",\"minorgridcolor\":\"white\",\"startlinecolor\":\"#2a3f5f\"},\"type\":\"carpet\"}],\"choropleth\":[{\"colorbar\":{\"outlinewidth\":0,\"ticks\":\"\"},\"type\":\"choropleth\"}],\"contourcarpet\":[{\"colorbar\":{\"outlinewidth\":0,\"ticks\":\"\"},\"type\":\"contourcarpet\"}],\"contour\":[{\"colorbar\":{\"outlinewidth\":0,\"ticks\":\"\"},\"colorscale\":[[0.0,\"#0d0887\"],[0.1111111111111111,\"#46039f\"],[0.2222222222222222,\"#7201a8\"],[0.3333333333333333,\"#9c179e\"],[0.4444444444444444,\"#bd3786\"],[0.5555555555555556,\"#d8576b\"],[0.6666666666666666,\"#ed7953\"],[0.7777777777777778,\"#fb9f3a\"],[0.8888888888888888,\"#fdca26\"],[1.0,\"#f0f921\"]],\"type\":\"contour\"}],\"heatmapgl\":[{\"colorbar\":{\"outlinewidth\":0,\"ticks\":\"\"},\"colorscale\":[[0.0,\"#0d0887\"],[0.1111111111111111,\"#46039f\"],[0.2222222222222222,\"#7201a8\"],[0.3333333333333333,\"#9c179e\"],[0.4444444444444444,\"#bd3786\"],[0.5555555555555556,\"#d8576b\"],[0.6666666666666666,\"#ed7953\"],[0.7777777777777778,\"#fb9f3a\"],[0.8888888888888888,\"#fdca26\"],[1.0,\"#f0f921\"]],\"type\":\"heatmapgl\"}],\"heatmap\":[{\"colorbar\":{\"outlinewidth\":0,\"ticks\":\"\"},\"colorscale\":[[0.0,\"#0d0887\"],[0.1111111111111111,\"#46039f\"],[0.2222222222222222,\"#7201a8\"],[0.3333333333333333,\"#9c179e\"],[0.4444444444444444,\"#bd3786\"],[0.5555555555555556,\"#d8576b\"],[0.6666666666666666,\"#ed7953\"],[0.7777777777777778,\"#fb9f3a\"],[0.8888888888888888,\"#fdca26\"],[1.0,\"#f0f921\"]],\"type\":\"heatmap\"}],\"histogram2dcontour\":[{\"colorbar\":{\"outlinewidth\":0,\"ticks\":\"\"},\"colorscale\":[[0.0,\"#0d0887\"],[0.1111111111111111,\"#46039f\"],[0.2222222222222222,\"#7201a8\"],[0.3333333333333333,\"#9c179e\"],[0.4444444444444444,\"#bd3786\"],[0.5555555555555556,\"#d8576b\"],[0.6666666666666666,\"#ed7953\"],[0.7777777777777778,\"#fb9f3a\"],[0.8888888888888888,\"#fdca26\"],[1.0,\"#f0f921\"]],\"type\":\"histogram2dcontour\"}],\"histogram2d\":[{\"colorbar\":{\"outlinewidth\":0,\"ticks\":\"\"},\"colorscale\":[[0.0,\"#0d0887\"],[0.1111111111111111,\"#46039f\"],[0.2222222222222222,\"#7201a8\"],[0.3333333333333333,\"#9c179e\"],[0.4444444444444444,\"#bd3786\"],[0.5555555555555556,\"#d8576b\"],[0.6666666666666666,\"#ed7953\"],[0.7777777777777778,\"#fb9f3a\"],[0.8888888888888888,\"#fdca26\"],[1.0,\"#f0f921\"]],\"type\":\"histogram2d\"}],\"histogram\":[{\"marker\":{\"pattern\":{\"fillmode\":\"overlay\",\"size\":10,\"solidity\":0.2}},\"type\":\"histogram\"}],\"mesh3d\":[{\"colorbar\":{\"outlinewidth\":0,\"ticks\":\"\"},\"type\":\"mesh3d\"}],\"parcoords\":[{\"line\":{\"colorbar\":{\"outlinewidth\":0,\"ticks\":\"\"}},\"type\":\"parcoords\"}],\"pie\":[{\"automargin\":true,\"type\":\"pie\"}],\"scatter3d\":[{\"line\":{\"colorbar\":{\"outlinewidth\":0,\"ticks\":\"\"}},\"marker\":{\"colorbar\":{\"outlinewidth\":0,\"ticks\":\"\"}},\"type\":\"scatter3d\"}],\"scattercarpet\":[{\"marker\":{\"colorbar\":{\"outlinewidth\":0,\"ticks\":\"\"}},\"type\":\"scattercarpet\"}],\"scattergeo\":[{\"marker\":{\"colorbar\":{\"outlinewidth\":0,\"ticks\":\"\"}},\"type\":\"scattergeo\"}],\"scattergl\":[{\"marker\":{\"colorbar\":{\"outlinewidth\":0,\"ticks\":\"\"}},\"type\":\"scattergl\"}],\"scattermapbox\":[{\"marker\":{\"colorbar\":{\"outlinewidth\":0,\"ticks\":\"\"}},\"type\":\"scattermapbox\"}],\"scatterpolargl\":[{\"marker\":{\"colorbar\":{\"outlinewidth\":0,\"ticks\":\"\"}},\"type\":\"scatterpolargl\"}],\"scatterpolar\":[{\"marker\":{\"colorbar\":{\"outlinewidth\":0,\"ticks\":\"\"}},\"type\":\"scatterpolar\"}],\"scatter\":[{\"marker\":{\"colorbar\":{\"outlinewidth\":0,\"ticks\":\"\"}},\"type\":\"scatter\"}],\"scatterternary\":[{\"marker\":{\"colorbar\":{\"outlinewidth\":0,\"ticks\":\"\"}},\"type\":\"scatterternary\"}],\"surface\":[{\"colorbar\":{\"outlinewidth\":0,\"ticks\":\"\"},\"colorscale\":[[0.0,\"#0d0887\"],[0.1111111111111111,\"#46039f\"],[0.2222222222222222,\"#7201a8\"],[0.3333333333333333,\"#9c179e\"],[0.4444444444444444,\"#bd3786\"],[0.5555555555555556,\"#d8576b\"],[0.6666666666666666,\"#ed7953\"],[0.7777777777777778,\"#fb9f3a\"],[0.8888888888888888,\"#fdca26\"],[1.0,\"#f0f921\"]],\"type\":\"surface\"}],\"table\":[{\"cells\":{\"fill\":{\"color\":\"#EBF0F8\"},\"line\":{\"color\":\"white\"}},\"header\":{\"fill\":{\"color\":\"#C8D4E3\"},\"line\":{\"color\":\"white\"}},\"type\":\"table\"}]},\"layout\":{\"annotationdefaults\":{\"arrowcolor\":\"#2a3f5f\",\"arrowhead\":0,\"arrowwidth\":1},\"autotypenumbers\":\"strict\",\"coloraxis\":{\"colorbar\":{\"outlinewidth\":0,\"ticks\":\"\"}},\"colorscale\":{\"diverging\":[[0,\"#8e0152\"],[0.1,\"#c51b7d\"],[0.2,\"#de77ae\"],[0.3,\"#f1b6da\"],[0.4,\"#fde0ef\"],[0.5,\"#f7f7f7\"],[0.6,\"#e6f5d0\"],[0.7,\"#b8e186\"],[0.8,\"#7fbc41\"],[0.9,\"#4d9221\"],[1,\"#276419\"]],\"sequential\":[[0.0,\"#0d0887\"],[0.1111111111111111,\"#46039f\"],[0.2222222222222222,\"#7201a8\"],[0.3333333333333333,\"#9c179e\"],[0.4444444444444444,\"#bd3786\"],[0.5555555555555556,\"#d8576b\"],[0.6666666666666666,\"#ed7953\"],[0.7777777777777778,\"#fb9f3a\"],[0.8888888888888888,\"#fdca26\"],[1.0,\"#f0f921\"]],\"sequentialminus\":[[0.0,\"#0d0887\"],[0.1111111111111111,\"#46039f\"],[0.2222222222222222,\"#7201a8\"],[0.3333333333333333,\"#9c179e\"],[0.4444444444444444,\"#bd3786\"],[0.5555555555555556,\"#d8576b\"],[0.6666666666666666,\"#ed7953\"],[0.7777777777777778,\"#fb9f3a\"],[0.8888888888888888,\"#fdca26\"],[1.0,\"#f0f921\"]]},\"colorway\":[\"#636efa\",\"#EF553B\",\"#00cc96\",\"#ab63fa\",\"#FFA15A\",\"#19d3f3\",\"#FF6692\",\"#B6E880\",\"#FF97FF\",\"#FECB52\"],\"font\":{\"color\":\"#2a3f5f\"},\"geo\":{\"bgcolor\":\"white\",\"lakecolor\":\"white\",\"landcolor\":\"#E5ECF6\",\"showlakes\":true,\"showland\":true,\"subunitcolor\":\"white\"},\"hoverlabel\":{\"align\":\"left\"},\"hovermode\":\"closest\",\"mapbox\":{\"style\":\"light\"},\"paper_bgcolor\":\"white\",\"plot_bgcolor\":\"#E5ECF6\",\"polar\":{\"angularaxis\":{\"gridcolor\":\"white\",\"linecolor\":\"white\",\"ticks\":\"\"},\"bgcolor\":\"#E5ECF6\",\"radialaxis\":{\"gridcolor\":\"white\",\"linecolor\":\"white\",\"ticks\":\"\"}},\"scene\":{\"xaxis\":{\"backgroundcolor\":\"#E5ECF6\",\"gridcolor\":\"white\",\"gridwidth\":2,\"linecolor\":\"white\",\"showbackground\":true,\"ticks\":\"\",\"zerolinecolor\":\"white\"},\"yaxis\":{\"backgroundcolor\":\"#E5ECF6\",\"gridcolor\":\"white\",\"gridwidth\":2,\"linecolor\":\"white\",\"showbackground\":true,\"ticks\":\"\",\"zerolinecolor\":\"white\"},\"zaxis\":{\"backgroundcolor\":\"#E5ECF6\",\"gridcolor\":\"white\",\"gridwidth\":2,\"linecolor\":\"white\",\"showbackground\":true,\"ticks\":\"\",\"zerolinecolor\":\"white\"}},\"shapedefaults\":{\"line\":{\"color\":\"#2a3f5f\"}},\"ternary\":{\"aaxis\":{\"gridcolor\":\"white\",\"linecolor\":\"white\",\"ticks\":\"\"},\"baxis\":{\"gridcolor\":\"white\",\"linecolor\":\"white\",\"ticks\":\"\"},\"bgcolor\":\"#E5ECF6\",\"caxis\":{\"gridcolor\":\"white\",\"linecolor\":\"white\",\"ticks\":\"\"}},\"title\":{\"x\":0.05},\"xaxis\":{\"automargin\":true,\"gridcolor\":\"white\",\"linecolor\":\"white\",\"ticks\":\"\",\"title\":{\"standoff\":15},\"zerolinecolor\":\"white\",\"zerolinewidth\":2},\"yaxis\":{\"automargin\":true,\"gridcolor\":\"white\",\"linecolor\":\"white\",\"ticks\":\"\",\"title\":{\"standoff\":15},\"zerolinecolor\":\"white\",\"zerolinewidth\":2}}}},                        {\"responsive\": true}                    ).then(function(){\n",
              "                            \n",
              "var gd = document.getElementById('2216a29b-9ca3-444b-9099-104bc225db42');\n",
              "var x = new MutationObserver(function (mutations, observer) {{\n",
              "        var display = window.getComputedStyle(gd).display;\n",
              "        if (!display || display === 'none') {{\n",
              "            console.log([gd, 'removed!']);\n",
              "            Plotly.purge(gd);\n",
              "            observer.disconnect();\n",
              "        }}\n",
              "}});\n",
              "\n",
              "// Listen for the removal of the full notebook cells\n",
              "var notebookContainer = gd.closest('#notebook-container');\n",
              "if (notebookContainer) {{\n",
              "    x.observe(notebookContainer, {childList: true});\n",
              "}}\n",
              "\n",
              "// Listen for the clearing of the current output cell\n",
              "var outputEl = gd.closest('.output');\n",
              "if (outputEl) {{\n",
              "    x.observe(outputEl, {childList: true});\n",
              "}}\n",
              "\n",
              "                        })                };                            </script>        </div>\n",
              "</body>\n",
              "</html>"
            ]
          },
          "metadata": {}
        }
      ]
    },
    {
      "cell_type": "markdown",
      "source": [
        "# **Médias Móveis**"
      ],
      "metadata": {
        "id": "XahH318XlNB_"
      }
    },
    {
      "cell_type": "code",
      "source": [
        "# Média simples de 3 dias\n",
        "df['MM_3'] = df.Close.rolling(window=3).mean()\n",
        "\n",
        "# Média simples de 9 dias\n",
        "df['MM_9'] = df.Close.rolling(window=9).mean()\n",
        "\n",
        "# Média simples de 15 dias\n",
        "df['MM_15'] = df.Close.rolling(window=15).mean()\n",
        "\n",
        "fechamento = go.Scatter(x=df.index,\n",
        "                   y=df.Close,\n",
        "                   name = \"ABUD34 Close\",\n",
        "                   line = dict(color = '#330000'),\n",
        "                   opacity = 0.8)\n",
        "\n",
        "MM_3 = go.Scatter(x=df.index,\n",
        "                  y=df['MM_3'],\n",
        "                  name = \"Média Móvel 3 Períodos\",\n",
        "                  line = dict(color = '#FF8000'),\n",
        "                  opacity = 0.8)\n",
        "\n",
        "MM_9 = go.Scatter(x=df.index,\n",
        "                  y=df['MM_9'],\n",
        "                  name = \"Média Móvel 9 Períodos\",\n",
        "                  line = dict(color = '#B2FF66'),\n",
        "                  opacity = 0.8)\n",
        "\n",
        "MM_15 = go.Scatter(x=df.index,\n",
        "                   y=df['MM_15'],\n",
        "                   name = \"Média Móvel 15 Períodos\",\n",
        "                   line = dict(color = '#FF00FF'),\n",
        "                   opacity = 0.8)\n",
        "\n",
        "data = [fechamento, MM_3, MM_9, MM_15]\n",
        "\n",
        "py.iplot(data)"
      ],
      "metadata": {
        "colab": {
          "base_uri": "https://localhost:8080/"
        },
        "id": "nCXgkU3-jMPc",
        "outputId": "7fe91563-1948-4e73-bf48-e4b4611df649"
      },
      "execution_count": null,
      "outputs": [
        {
          "output_type": "display_data",
          "data": {
            "text/html": [
              "<html>\n",
              "<head><meta charset=\"utf-8\" /></head>\n",
              "<body>\n",
              "    <div>            <script src=\"https://cdnjs.cloudflare.com/ajax/libs/mathjax/2.7.5/MathJax.js?config=TeX-AMS-MML_SVG\"></script><script type=\"text/javascript\">if (window.MathJax) {MathJax.Hub.Config({SVG: {font: \"STIX-Web\"}});}</script>                <script type=\"text/javascript\">window.PlotlyConfig = {MathJaxConfig: 'local'};</script>\n",
              "        <script src=\"https://cdn.plot.ly/plotly-2.8.3.min.js\"></script>                <div id=\"ef4f1656-38ce-4832-b306-a647429132c9\" class=\"plotly-graph-div\" style=\"height:525px; width:100%;\"></div>            <script type=\"text/javascript\">                                    window.PLOTLYENV=window.PLOTLYENV || {};                                    if (document.getElementById(\"ef4f1656-38ce-4832-b306-a647429132c9\")) {                    Plotly.newPlot(                        \"ef4f1656-38ce-4832-b306-a647429132c9\",                        [{\"line\":{\"color\":\"#330000\"},\"name\":\"ABUD34 Close\",\"opacity\":0.8,\"x\":[\"2021-08-02T00:00:00-03:00\",\"2021-08-03T00:00:00-03:00\",\"2021-08-04T00:00:00-03:00\",\"2021-08-05T00:00:00-03:00\",\"2021-08-06T00:00:00-03:00\",\"2021-08-09T00:00:00-03:00\",\"2021-08-10T00:00:00-03:00\",\"2021-08-11T00:00:00-03:00\",\"2021-08-12T00:00:00-03:00\",\"2021-08-13T00:00:00-03:00\",\"2021-08-16T00:00:00-03:00\",\"2021-08-17T00:00:00-03:00\",\"2021-08-18T00:00:00-03:00\",\"2021-08-19T00:00:00-03:00\",\"2021-08-20T00:00:00-03:00\",\"2021-08-23T00:00:00-03:00\",\"2021-08-24T00:00:00-03:00\",\"2021-08-25T00:00:00-03:00\",\"2021-08-26T00:00:00-03:00\",\"2021-08-27T00:00:00-03:00\",\"2021-08-30T00:00:00-03:00\",\"2021-08-31T00:00:00-03:00\",\"2021-09-01T00:00:00-03:00\",\"2021-09-02T00:00:00-03:00\",\"2021-09-03T00:00:00-03:00\",\"2021-09-06T00:00:00-03:00\",\"2021-09-08T00:00:00-03:00\",\"2021-09-09T00:00:00-03:00\",\"2021-09-10T00:00:00-03:00\",\"2021-09-13T00:00:00-03:00\",\"2021-09-14T00:00:00-03:00\",\"2021-09-15T00:00:00-03:00\",\"2021-09-16T00:00:00-03:00\",\"2021-09-17T00:00:00-03:00\",\"2021-09-20T00:00:00-03:00\",\"2021-09-21T00:00:00-03:00\",\"2021-09-22T00:00:00-03:00\",\"2021-09-23T00:00:00-03:00\",\"2021-09-24T00:00:00-03:00\",\"2021-09-27T00:00:00-03:00\",\"2021-09-28T00:00:00-03:00\",\"2021-09-29T00:00:00-03:00\",\"2021-09-30T00:00:00-03:00\"],\"y\":[53.95000076293945,54.25,53.290000915527344,53.650001525878906,53.849998474121094,53.29999923706055,53.08000183105469,53.5,53.650001525878906,54.25,54.650001525878906,53.65999984741211,54.650001525878906,54.25,54.029998779296875,54.650001525878906,53.25,53.25,53.150001525878906,53.25,53.0,52.779998779296875,53.40999984741211,52.13999938964844,51.70000076293945,52.099998474121094,51.900001525878906,50.5,50.33000183105469,50.75,50.29999923706055,50.04999923706055,50.400001525878906,51.04999923706055,50.7599983215332,51.0,51.900001525878906,51.95000076293945,51.599998474121094,53.25,53.20000076293945,52.349998474121094,51.540000915527344],\"type\":\"scatter\"},{\"line\":{\"color\":\"#FF8000\"},\"name\":\"M\\u00e9dia M\\u00f3vel 3 Per\\u00edodos\",\"opacity\":0.8,\"x\":[\"2021-08-02T00:00:00-03:00\",\"2021-08-03T00:00:00-03:00\",\"2021-08-04T00:00:00-03:00\",\"2021-08-05T00:00:00-03:00\",\"2021-08-06T00:00:00-03:00\",\"2021-08-09T00:00:00-03:00\",\"2021-08-10T00:00:00-03:00\",\"2021-08-11T00:00:00-03:00\",\"2021-08-12T00:00:00-03:00\",\"2021-08-13T00:00:00-03:00\",\"2021-08-16T00:00:00-03:00\",\"2021-08-17T00:00:00-03:00\",\"2021-08-18T00:00:00-03:00\",\"2021-08-19T00:00:00-03:00\",\"2021-08-20T00:00:00-03:00\",\"2021-08-23T00:00:00-03:00\",\"2021-08-24T00:00:00-03:00\",\"2021-08-25T00:00:00-03:00\",\"2021-08-26T00:00:00-03:00\",\"2021-08-27T00:00:00-03:00\",\"2021-08-30T00:00:00-03:00\",\"2021-08-31T00:00:00-03:00\",\"2021-09-01T00:00:00-03:00\",\"2021-09-02T00:00:00-03:00\",\"2021-09-03T00:00:00-03:00\",\"2021-09-06T00:00:00-03:00\",\"2021-09-08T00:00:00-03:00\",\"2021-09-09T00:00:00-03:00\",\"2021-09-10T00:00:00-03:00\",\"2021-09-13T00:00:00-03:00\",\"2021-09-14T00:00:00-03:00\",\"2021-09-15T00:00:00-03:00\",\"2021-09-16T00:00:00-03:00\",\"2021-09-17T00:00:00-03:00\",\"2021-09-20T00:00:00-03:00\",\"2021-09-21T00:00:00-03:00\",\"2021-09-22T00:00:00-03:00\",\"2021-09-23T00:00:00-03:00\",\"2021-09-24T00:00:00-03:00\",\"2021-09-27T00:00:00-03:00\",\"2021-09-28T00:00:00-03:00\",\"2021-09-29T00:00:00-03:00\",\"2021-09-30T00:00:00-03:00\"],\"y\":[null,null,53.83000055948893,53.730000813802086,53.596666971842446,53.59999974568685,53.40999984741211,53.29333368937174,53.41000111897787,53.800000508626304,54.18333435058594,54.186667124430336,54.320000966389976,54.186667124430336,54.31000010172526,54.31000010172526,53.97666676839193,53.71666717529297,53.21666717529297,53.21666717529297,53.13333384195963,53.00999959309896,53.063332875569664,52.776666005452476,52.416666666666664,51.97999954223633,51.90000025431315,51.5,50.91000111897787,50.52666727701823,50.460000356038414,50.36666615804037,50.25,50.5,50.73666636149088,50.936665852864586,51.21999994913737,51.61666742960612,51.81666692097982,52.266666412353516,52.68333307902018,52.93333307902018,52.36333338419596],\"type\":\"scatter\"},{\"line\":{\"color\":\"#B2FF66\"},\"name\":\"M\\u00e9dia M\\u00f3vel 9 Per\\u00edodos\",\"opacity\":0.8,\"x\":[\"2021-08-02T00:00:00-03:00\",\"2021-08-03T00:00:00-03:00\",\"2021-08-04T00:00:00-03:00\",\"2021-08-05T00:00:00-03:00\",\"2021-08-06T00:00:00-03:00\",\"2021-08-09T00:00:00-03:00\",\"2021-08-10T00:00:00-03:00\",\"2021-08-11T00:00:00-03:00\",\"2021-08-12T00:00:00-03:00\",\"2021-08-13T00:00:00-03:00\",\"2021-08-16T00:00:00-03:00\",\"2021-08-17T00:00:00-03:00\",\"2021-08-18T00:00:00-03:00\",\"2021-08-19T00:00:00-03:00\",\"2021-08-20T00:00:00-03:00\",\"2021-08-23T00:00:00-03:00\",\"2021-08-24T00:00:00-03:00\",\"2021-08-25T00:00:00-03:00\",\"2021-08-26T00:00:00-03:00\",\"2021-08-27T00:00:00-03:00\",\"2021-08-30T00:00:00-03:00\",\"2021-08-31T00:00:00-03:00\",\"2021-09-01T00:00:00-03:00\",\"2021-09-02T00:00:00-03:00\",\"2021-09-03T00:00:00-03:00\",\"2021-09-06T00:00:00-03:00\",\"2021-09-08T00:00:00-03:00\",\"2021-09-09T00:00:00-03:00\",\"2021-09-10T00:00:00-03:00\",\"2021-09-13T00:00:00-03:00\",\"2021-09-14T00:00:00-03:00\",\"2021-09-15T00:00:00-03:00\",\"2021-09-16T00:00:00-03:00\",\"2021-09-17T00:00:00-03:00\",\"2021-09-20T00:00:00-03:00\",\"2021-09-21T00:00:00-03:00\",\"2021-09-22T00:00:00-03:00\",\"2021-09-23T00:00:00-03:00\",\"2021-09-24T00:00:00-03:00\",\"2021-09-27T00:00:00-03:00\",\"2021-09-28T00:00:00-03:00\",\"2021-09-29T00:00:00-03:00\",\"2021-09-30T00:00:00-03:00\"],\"y\":[null,null,null,null,null,null,null,null,53.613333808051216,53.646667056613495,53.691111670600044,53.732222663031685,53.84333377414279,53.88777838812934,53.96888944837782,54.14333385891385,54.11555608113607,54.07111146714952,53.9488894144694,53.79333368937174,53.72000037299262,53.51222229003906,53.41888893975152,53.20888900756836,52.88111114501953,52.753333197699654,52.60333336724175,52.30888875325521,51.984444512261284,51.734444512261284,51.45888900756836,51.08555560641818,50.892222510443794,50.820000118679474,50.67111121283637,50.57111104329427,50.72666676839193,50.906666649712456,51.0011109246148,51.32888878716363,51.67888895670573,51.89555528428819,51.94999991522895],\"type\":\"scatter\"},{\"line\":{\"color\":\"#FF00FF\"},\"name\":\"M\\u00e9dia M\\u00f3vel 15 Per\\u00edodos\",\"opacity\":0.8,\"x\":[\"2021-08-02T00:00:00-03:00\",\"2021-08-03T00:00:00-03:00\",\"2021-08-04T00:00:00-03:00\",\"2021-08-05T00:00:00-03:00\",\"2021-08-06T00:00:00-03:00\",\"2021-08-09T00:00:00-03:00\",\"2021-08-10T00:00:00-03:00\",\"2021-08-11T00:00:00-03:00\",\"2021-08-12T00:00:00-03:00\",\"2021-08-13T00:00:00-03:00\",\"2021-08-16T00:00:00-03:00\",\"2021-08-17T00:00:00-03:00\",\"2021-08-18T00:00:00-03:00\",\"2021-08-19T00:00:00-03:00\",\"2021-08-20T00:00:00-03:00\",\"2021-08-23T00:00:00-03:00\",\"2021-08-24T00:00:00-03:00\",\"2021-08-25T00:00:00-03:00\",\"2021-08-26T00:00:00-03:00\",\"2021-08-27T00:00:00-03:00\",\"2021-08-30T00:00:00-03:00\",\"2021-08-31T00:00:00-03:00\",\"2021-09-01T00:00:00-03:00\",\"2021-09-02T00:00:00-03:00\",\"2021-09-03T00:00:00-03:00\",\"2021-09-06T00:00:00-03:00\",\"2021-09-08T00:00:00-03:00\",\"2021-09-09T00:00:00-03:00\",\"2021-09-10T00:00:00-03:00\",\"2021-09-13T00:00:00-03:00\",\"2021-09-14T00:00:00-03:00\",\"2021-09-15T00:00:00-03:00\",\"2021-09-16T00:00:00-03:00\",\"2021-09-17T00:00:00-03:00\",\"2021-09-20T00:00:00-03:00\",\"2021-09-21T00:00:00-03:00\",\"2021-09-22T00:00:00-03:00\",\"2021-09-23T00:00:00-03:00\",\"2021-09-24T00:00:00-03:00\",\"2021-09-27T00:00:00-03:00\",\"2021-09-28T00:00:00-03:00\",\"2021-09-29T00:00:00-03:00\",\"2021-09-30T00:00:00-03:00\"],\"y\":[null,null,null,null,null,null,null,null,null,null,null,null,null,null,53.86733373006185,53.91400044759114,53.84733378092448,53.84466705322266,53.811333719889326,53.77133382161458,53.75133387247721,53.73133366902669,53.72533365885417,53.62466684977213,53.45466690063476,53.28466669718424,53.1673334757487,52.89066670735677,52.62933349609375,52.410666910807294,52.1206667582194,51.90733337402344,51.717333475748696,51.57733332316081,51.41133321126302,51.27799987792969,51.21933339436849,51.12200012207031,51.08600006103516,51.18933334350586,51.26266682942708,51.292666625976565,51.36200002034505],\"type\":\"scatter\"}],                        {\"template\":{\"data\":{\"barpolar\":[{\"marker\":{\"line\":{\"color\":\"#E5ECF6\",\"width\":0.5},\"pattern\":{\"fillmode\":\"overlay\",\"size\":10,\"solidity\":0.2}},\"type\":\"barpolar\"}],\"bar\":[{\"error_x\":{\"color\":\"#2a3f5f\"},\"error_y\":{\"color\":\"#2a3f5f\"},\"marker\":{\"line\":{\"color\":\"#E5ECF6\",\"width\":0.5},\"pattern\":{\"fillmode\":\"overlay\",\"size\":10,\"solidity\":0.2}},\"type\":\"bar\"}],\"carpet\":[{\"aaxis\":{\"endlinecolor\":\"#2a3f5f\",\"gridcolor\":\"white\",\"linecolor\":\"white\",\"minorgridcolor\":\"white\",\"startlinecolor\":\"#2a3f5f\"},\"baxis\":{\"endlinecolor\":\"#2a3f5f\",\"gridcolor\":\"white\",\"linecolor\":\"white\",\"minorgridcolor\":\"white\",\"startlinecolor\":\"#2a3f5f\"},\"type\":\"carpet\"}],\"choropleth\":[{\"colorbar\":{\"outlinewidth\":0,\"ticks\":\"\"},\"type\":\"choropleth\"}],\"contourcarpet\":[{\"colorbar\":{\"outlinewidth\":0,\"ticks\":\"\"},\"type\":\"contourcarpet\"}],\"contour\":[{\"colorbar\":{\"outlinewidth\":0,\"ticks\":\"\"},\"colorscale\":[[0.0,\"#0d0887\"],[0.1111111111111111,\"#46039f\"],[0.2222222222222222,\"#7201a8\"],[0.3333333333333333,\"#9c179e\"],[0.4444444444444444,\"#bd3786\"],[0.5555555555555556,\"#d8576b\"],[0.6666666666666666,\"#ed7953\"],[0.7777777777777778,\"#fb9f3a\"],[0.8888888888888888,\"#fdca26\"],[1.0,\"#f0f921\"]],\"type\":\"contour\"}],\"heatmapgl\":[{\"colorbar\":{\"outlinewidth\":0,\"ticks\":\"\"},\"colorscale\":[[0.0,\"#0d0887\"],[0.1111111111111111,\"#46039f\"],[0.2222222222222222,\"#7201a8\"],[0.3333333333333333,\"#9c179e\"],[0.4444444444444444,\"#bd3786\"],[0.5555555555555556,\"#d8576b\"],[0.6666666666666666,\"#ed7953\"],[0.7777777777777778,\"#fb9f3a\"],[0.8888888888888888,\"#fdca26\"],[1.0,\"#f0f921\"]],\"type\":\"heatmapgl\"}],\"heatmap\":[{\"colorbar\":{\"outlinewidth\":0,\"ticks\":\"\"},\"colorscale\":[[0.0,\"#0d0887\"],[0.1111111111111111,\"#46039f\"],[0.2222222222222222,\"#7201a8\"],[0.3333333333333333,\"#9c179e\"],[0.4444444444444444,\"#bd3786\"],[0.5555555555555556,\"#d8576b\"],[0.6666666666666666,\"#ed7953\"],[0.7777777777777778,\"#fb9f3a\"],[0.8888888888888888,\"#fdca26\"],[1.0,\"#f0f921\"]],\"type\":\"heatmap\"}],\"histogram2dcontour\":[{\"colorbar\":{\"outlinewidth\":0,\"ticks\":\"\"},\"colorscale\":[[0.0,\"#0d0887\"],[0.1111111111111111,\"#46039f\"],[0.2222222222222222,\"#7201a8\"],[0.3333333333333333,\"#9c179e\"],[0.4444444444444444,\"#bd3786\"],[0.5555555555555556,\"#d8576b\"],[0.6666666666666666,\"#ed7953\"],[0.7777777777777778,\"#fb9f3a\"],[0.8888888888888888,\"#fdca26\"],[1.0,\"#f0f921\"]],\"type\":\"histogram2dcontour\"}],\"histogram2d\":[{\"colorbar\":{\"outlinewidth\":0,\"ticks\":\"\"},\"colorscale\":[[0.0,\"#0d0887\"],[0.1111111111111111,\"#46039f\"],[0.2222222222222222,\"#7201a8\"],[0.3333333333333333,\"#9c179e\"],[0.4444444444444444,\"#bd3786\"],[0.5555555555555556,\"#d8576b\"],[0.6666666666666666,\"#ed7953\"],[0.7777777777777778,\"#fb9f3a\"],[0.8888888888888888,\"#fdca26\"],[1.0,\"#f0f921\"]],\"type\":\"histogram2d\"}],\"histogram\":[{\"marker\":{\"pattern\":{\"fillmode\":\"overlay\",\"size\":10,\"solidity\":0.2}},\"type\":\"histogram\"}],\"mesh3d\":[{\"colorbar\":{\"outlinewidth\":0,\"ticks\":\"\"},\"type\":\"mesh3d\"}],\"parcoords\":[{\"line\":{\"colorbar\":{\"outlinewidth\":0,\"ticks\":\"\"}},\"type\":\"parcoords\"}],\"pie\":[{\"automargin\":true,\"type\":\"pie\"}],\"scatter3d\":[{\"line\":{\"colorbar\":{\"outlinewidth\":0,\"ticks\":\"\"}},\"marker\":{\"colorbar\":{\"outlinewidth\":0,\"ticks\":\"\"}},\"type\":\"scatter3d\"}],\"scattercarpet\":[{\"marker\":{\"colorbar\":{\"outlinewidth\":0,\"ticks\":\"\"}},\"type\":\"scattercarpet\"}],\"scattergeo\":[{\"marker\":{\"colorbar\":{\"outlinewidth\":0,\"ticks\":\"\"}},\"type\":\"scattergeo\"}],\"scattergl\":[{\"marker\":{\"colorbar\":{\"outlinewidth\":0,\"ticks\":\"\"}},\"type\":\"scattergl\"}],\"scattermapbox\":[{\"marker\":{\"colorbar\":{\"outlinewidth\":0,\"ticks\":\"\"}},\"type\":\"scattermapbox\"}],\"scatterpolargl\":[{\"marker\":{\"colorbar\":{\"outlinewidth\":0,\"ticks\":\"\"}},\"type\":\"scatterpolargl\"}],\"scatterpolar\":[{\"marker\":{\"colorbar\":{\"outlinewidth\":0,\"ticks\":\"\"}},\"type\":\"scatterpolar\"}],\"scatter\":[{\"marker\":{\"colorbar\":{\"outlinewidth\":0,\"ticks\":\"\"}},\"type\":\"scatter\"}],\"scatterternary\":[{\"marker\":{\"colorbar\":{\"outlinewidth\":0,\"ticks\":\"\"}},\"type\":\"scatterternary\"}],\"surface\":[{\"colorbar\":{\"outlinewidth\":0,\"ticks\":\"\"},\"colorscale\":[[0.0,\"#0d0887\"],[0.1111111111111111,\"#46039f\"],[0.2222222222222222,\"#7201a8\"],[0.3333333333333333,\"#9c179e\"],[0.4444444444444444,\"#bd3786\"],[0.5555555555555556,\"#d8576b\"],[0.6666666666666666,\"#ed7953\"],[0.7777777777777778,\"#fb9f3a\"],[0.8888888888888888,\"#fdca26\"],[1.0,\"#f0f921\"]],\"type\":\"surface\"}],\"table\":[{\"cells\":{\"fill\":{\"color\":\"#EBF0F8\"},\"line\":{\"color\":\"white\"}},\"header\":{\"fill\":{\"color\":\"#C8D4E3\"},\"line\":{\"color\":\"white\"}},\"type\":\"table\"}]},\"layout\":{\"annotationdefaults\":{\"arrowcolor\":\"#2a3f5f\",\"arrowhead\":0,\"arrowwidth\":1},\"autotypenumbers\":\"strict\",\"coloraxis\":{\"colorbar\":{\"outlinewidth\":0,\"ticks\":\"\"}},\"colorscale\":{\"diverging\":[[0,\"#8e0152\"],[0.1,\"#c51b7d\"],[0.2,\"#de77ae\"],[0.3,\"#f1b6da\"],[0.4,\"#fde0ef\"],[0.5,\"#f7f7f7\"],[0.6,\"#e6f5d0\"],[0.7,\"#b8e186\"],[0.8,\"#7fbc41\"],[0.9,\"#4d9221\"],[1,\"#276419\"]],\"sequential\":[[0.0,\"#0d0887\"],[0.1111111111111111,\"#46039f\"],[0.2222222222222222,\"#7201a8\"],[0.3333333333333333,\"#9c179e\"],[0.4444444444444444,\"#bd3786\"],[0.5555555555555556,\"#d8576b\"],[0.6666666666666666,\"#ed7953\"],[0.7777777777777778,\"#fb9f3a\"],[0.8888888888888888,\"#fdca26\"],[1.0,\"#f0f921\"]],\"sequentialminus\":[[0.0,\"#0d0887\"],[0.1111111111111111,\"#46039f\"],[0.2222222222222222,\"#7201a8\"],[0.3333333333333333,\"#9c179e\"],[0.4444444444444444,\"#bd3786\"],[0.5555555555555556,\"#d8576b\"],[0.6666666666666666,\"#ed7953\"],[0.7777777777777778,\"#fb9f3a\"],[0.8888888888888888,\"#fdca26\"],[1.0,\"#f0f921\"]]},\"colorway\":[\"#636efa\",\"#EF553B\",\"#00cc96\",\"#ab63fa\",\"#FFA15A\",\"#19d3f3\",\"#FF6692\",\"#B6E880\",\"#FF97FF\",\"#FECB52\"],\"font\":{\"color\":\"#2a3f5f\"},\"geo\":{\"bgcolor\":\"white\",\"lakecolor\":\"white\",\"landcolor\":\"#E5ECF6\",\"showlakes\":true,\"showland\":true,\"subunitcolor\":\"white\"},\"hoverlabel\":{\"align\":\"left\"},\"hovermode\":\"closest\",\"mapbox\":{\"style\":\"light\"},\"paper_bgcolor\":\"white\",\"plot_bgcolor\":\"#E5ECF6\",\"polar\":{\"angularaxis\":{\"gridcolor\":\"white\",\"linecolor\":\"white\",\"ticks\":\"\"},\"bgcolor\":\"#E5ECF6\",\"radialaxis\":{\"gridcolor\":\"white\",\"linecolor\":\"white\",\"ticks\":\"\"}},\"scene\":{\"xaxis\":{\"backgroundcolor\":\"#E5ECF6\",\"gridcolor\":\"white\",\"gridwidth\":2,\"linecolor\":\"white\",\"showbackground\":true,\"ticks\":\"\",\"zerolinecolor\":\"white\"},\"yaxis\":{\"backgroundcolor\":\"#E5ECF6\",\"gridcolor\":\"white\",\"gridwidth\":2,\"linecolor\":\"white\",\"showbackground\":true,\"ticks\":\"\",\"zerolinecolor\":\"white\"},\"zaxis\":{\"backgroundcolor\":\"#E5ECF6\",\"gridcolor\":\"white\",\"gridwidth\":2,\"linecolor\":\"white\",\"showbackground\":true,\"ticks\":\"\",\"zerolinecolor\":\"white\"}},\"shapedefaults\":{\"line\":{\"color\":\"#2a3f5f\"}},\"ternary\":{\"aaxis\":{\"gridcolor\":\"white\",\"linecolor\":\"white\",\"ticks\":\"\"},\"baxis\":{\"gridcolor\":\"white\",\"linecolor\":\"white\",\"ticks\":\"\"},\"bgcolor\":\"#E5ECF6\",\"caxis\":{\"gridcolor\":\"white\",\"linecolor\":\"white\",\"ticks\":\"\"}},\"title\":{\"x\":0.05},\"xaxis\":{\"automargin\":true,\"gridcolor\":\"white\",\"linecolor\":\"white\",\"ticks\":\"\",\"title\":{\"standoff\":15},\"zerolinecolor\":\"white\",\"zerolinewidth\":2},\"yaxis\":{\"automargin\":true,\"gridcolor\":\"white\",\"linecolor\":\"white\",\"ticks\":\"\",\"title\":{\"standoff\":15},\"zerolinecolor\":\"white\",\"zerolinewidth\":2}}}},                        {\"responsive\": true}                    ).then(function(){\n",
              "                            \n",
              "var gd = document.getElementById('ef4f1656-38ce-4832-b306-a647429132c9');\n",
              "var x = new MutationObserver(function (mutations, observer) {{\n",
              "        var display = window.getComputedStyle(gd).display;\n",
              "        if (!display || display === 'none') {{\n",
              "            console.log([gd, 'removed!']);\n",
              "            Plotly.purge(gd);\n",
              "            observer.disconnect();\n",
              "        }}\n",
              "}});\n",
              "\n",
              "// Listen for the removal of the full notebook cells\n",
              "var notebookContainer = gd.closest('#notebook-container');\n",
              "if (notebookContainer) {{\n",
              "    x.observe(notebookContainer, {childList: true});\n",
              "}}\n",
              "\n",
              "// Listen for the clearing of the current output cell\n",
              "var outputEl = gd.closest('.output');\n",
              "if (outputEl) {{\n",
              "    x.observe(outputEl, {childList: true});\n",
              "}}\n",
              "\n",
              "                        })                };                            </script>        </div>\n",
              "</body>\n",
              "</html>"
            ]
          },
          "metadata": {}
        }
      ]
    },
    {
      "cell_type": "code",
      "source": [
        "# D Média simples de 3 dias\n",
        "df['DMM_3'] = df.Close.rolling(window=3).std()\n",
        "DMM_3 = go.Scatter(x=df.index,\n",
        "                  y=df['DMM_3'],\n",
        "                  name = \"D Média Móvel 3 Períodos\",\n",
        "                  line = dict(color = '#FF8000'),\n",
        "                  opacity = 0.8)\n",
        "data2 = [DMM_3]\n",
        "\n",
        "py.iplot(data2)"
      ],
      "metadata": {
        "colab": {
          "base_uri": "https://localhost:8080/"
        },
        "id": "IW2HRlD3jRIM",
        "outputId": "400bad87-6d7b-41cb-c583-dca61b39f58f"
      },
      "execution_count": null,
      "outputs": [
        {
          "output_type": "display_data",
          "data": {
            "text/html": [
              "<html>\n",
              "<head><meta charset=\"utf-8\" /></head>\n",
              "<body>\n",
              "    <div>            <script src=\"https://cdnjs.cloudflare.com/ajax/libs/mathjax/2.7.5/MathJax.js?config=TeX-AMS-MML_SVG\"></script><script type=\"text/javascript\">if (window.MathJax) {MathJax.Hub.Config({SVG: {font: \"STIX-Web\"}});}</script>                <script type=\"text/javascript\">window.PlotlyConfig = {MathJaxConfig: 'local'};</script>\n",
              "        <script src=\"https://cdn.plot.ly/plotly-2.8.3.min.js\"></script>                <div id=\"aeed21dc-549b-46ac-9eb1-851516f1a1a4\" class=\"plotly-graph-div\" style=\"height:525px; width:100%;\"></div>            <script type=\"text/javascript\">                                    window.PLOTLYENV=window.PLOTLYENV || {};                                    if (document.getElementById(\"aeed21dc-549b-46ac-9eb1-851516f1a1a4\")) {                    Plotly.newPlot(                        \"aeed21dc-549b-46ac-9eb1-851516f1a1a4\",                        [{\"line\":{\"color\":\"#FF8000\"},\"name\":\"D M\\u00e9dia M\\u00f3vel 3 Per\\u00edodos\",\"opacity\":0.8,\"x\":[\"2021-08-02T00:00:00-03:00\",\"2021-08-03T00:00:00-03:00\",\"2021-08-04T00:00:00-03:00\",\"2021-08-05T00:00:00-03:00\",\"2021-08-06T00:00:00-03:00\",\"2021-08-09T00:00:00-03:00\",\"2021-08-10T00:00:00-03:00\",\"2021-08-11T00:00:00-03:00\",\"2021-08-12T00:00:00-03:00\",\"2021-08-13T00:00:00-03:00\",\"2021-08-16T00:00:00-03:00\",\"2021-08-17T00:00:00-03:00\",\"2021-08-18T00:00:00-03:00\",\"2021-08-19T00:00:00-03:00\",\"2021-08-20T00:00:00-03:00\",\"2021-08-23T00:00:00-03:00\",\"2021-08-24T00:00:00-03:00\",\"2021-08-25T00:00:00-03:00\",\"2021-08-26T00:00:00-03:00\",\"2021-08-27T00:00:00-03:00\",\"2021-08-30T00:00:00-03:00\",\"2021-08-31T00:00:00-03:00\",\"2021-09-01T00:00:00-03:00\",\"2021-09-02T00:00:00-03:00\",\"2021-09-03T00:00:00-03:00\",\"2021-09-06T00:00:00-03:00\",\"2021-09-08T00:00:00-03:00\",\"2021-09-09T00:00:00-03:00\",\"2021-09-10T00:00:00-03:00\",\"2021-09-13T00:00:00-03:00\",\"2021-09-14T00:00:00-03:00\",\"2021-09-15T00:00:00-03:00\",\"2021-09-16T00:00:00-03:00\",\"2021-09-17T00:00:00-03:00\",\"2021-09-20T00:00:00-03:00\",\"2021-09-21T00:00:00-03:00\",\"2021-09-22T00:00:00-03:00\",\"2021-09-23T00:00:00-03:00\",\"2021-09-24T00:00:00-03:00\",\"2021-09-27T00:00:00-03:00\",\"2021-09-28T00:00:00-03:00\",\"2021-09-29T00:00:00-03:00\",\"2021-09-30T00:00:00-03:00\"],\"y\":[null,null,0.49112075619770784,0.4849736849543953,0.2837829230211737,0.2783880811180293,0.3966091379326407,0.2100784082761708,0.2954653312384627,0.3968624082965534,0.5033221946316778,0.49803024073615154,0.5715777355609847,0.49803024073615154,0.31432604186989643,0.31432604186989643,0.7015228404379938,0.8082912578320737,0.05773414595237011,0.05773414595237011,0.12583067497802297,0.23516011728653344,0.3197399354202196,0.6350067883228564,0.8879373873499427,0.24330948525809665,0.19999885559384808,0.8717796136791373,0.8615685977386598,0.2112651727735336,0.25159468204829505,0.35473035645917544,0.18027851598153186,0.5074443527323106,0.3256263831523921,0.1550275568945928,0.6010006736227148,0.5346344732426351,0.18929842266853708,0.8693872031435766,0.9385283056762682,0.5058007778574991,0.8300802601086797],\"type\":\"scatter\"}],                        {\"template\":{\"data\":{\"barpolar\":[{\"marker\":{\"line\":{\"color\":\"#E5ECF6\",\"width\":0.5},\"pattern\":{\"fillmode\":\"overlay\",\"size\":10,\"solidity\":0.2}},\"type\":\"barpolar\"}],\"bar\":[{\"error_x\":{\"color\":\"#2a3f5f\"},\"error_y\":{\"color\":\"#2a3f5f\"},\"marker\":{\"line\":{\"color\":\"#E5ECF6\",\"width\":0.5},\"pattern\":{\"fillmode\":\"overlay\",\"size\":10,\"solidity\":0.2}},\"type\":\"bar\"}],\"carpet\":[{\"aaxis\":{\"endlinecolor\":\"#2a3f5f\",\"gridcolor\":\"white\",\"linecolor\":\"white\",\"minorgridcolor\":\"white\",\"startlinecolor\":\"#2a3f5f\"},\"baxis\":{\"endlinecolor\":\"#2a3f5f\",\"gridcolor\":\"white\",\"linecolor\":\"white\",\"minorgridcolor\":\"white\",\"startlinecolor\":\"#2a3f5f\"},\"type\":\"carpet\"}],\"choropleth\":[{\"colorbar\":{\"outlinewidth\":0,\"ticks\":\"\"},\"type\":\"choropleth\"}],\"contourcarpet\":[{\"colorbar\":{\"outlinewidth\":0,\"ticks\":\"\"},\"type\":\"contourcarpet\"}],\"contour\":[{\"colorbar\":{\"outlinewidth\":0,\"ticks\":\"\"},\"colorscale\":[[0.0,\"#0d0887\"],[0.1111111111111111,\"#46039f\"],[0.2222222222222222,\"#7201a8\"],[0.3333333333333333,\"#9c179e\"],[0.4444444444444444,\"#bd3786\"],[0.5555555555555556,\"#d8576b\"],[0.6666666666666666,\"#ed7953\"],[0.7777777777777778,\"#fb9f3a\"],[0.8888888888888888,\"#fdca26\"],[1.0,\"#f0f921\"]],\"type\":\"contour\"}],\"heatmapgl\":[{\"colorbar\":{\"outlinewidth\":0,\"ticks\":\"\"},\"colorscale\":[[0.0,\"#0d0887\"],[0.1111111111111111,\"#46039f\"],[0.2222222222222222,\"#7201a8\"],[0.3333333333333333,\"#9c179e\"],[0.4444444444444444,\"#bd3786\"],[0.5555555555555556,\"#d8576b\"],[0.6666666666666666,\"#ed7953\"],[0.7777777777777778,\"#fb9f3a\"],[0.8888888888888888,\"#fdca26\"],[1.0,\"#f0f921\"]],\"type\":\"heatmapgl\"}],\"heatmap\":[{\"colorbar\":{\"outlinewidth\":0,\"ticks\":\"\"},\"colorscale\":[[0.0,\"#0d0887\"],[0.1111111111111111,\"#46039f\"],[0.2222222222222222,\"#7201a8\"],[0.3333333333333333,\"#9c179e\"],[0.4444444444444444,\"#bd3786\"],[0.5555555555555556,\"#d8576b\"],[0.6666666666666666,\"#ed7953\"],[0.7777777777777778,\"#fb9f3a\"],[0.8888888888888888,\"#fdca26\"],[1.0,\"#f0f921\"]],\"type\":\"heatmap\"}],\"histogram2dcontour\":[{\"colorbar\":{\"outlinewidth\":0,\"ticks\":\"\"},\"colorscale\":[[0.0,\"#0d0887\"],[0.1111111111111111,\"#46039f\"],[0.2222222222222222,\"#7201a8\"],[0.3333333333333333,\"#9c179e\"],[0.4444444444444444,\"#bd3786\"],[0.5555555555555556,\"#d8576b\"],[0.6666666666666666,\"#ed7953\"],[0.7777777777777778,\"#fb9f3a\"],[0.8888888888888888,\"#fdca26\"],[1.0,\"#f0f921\"]],\"type\":\"histogram2dcontour\"}],\"histogram2d\":[{\"colorbar\":{\"outlinewidth\":0,\"ticks\":\"\"},\"colorscale\":[[0.0,\"#0d0887\"],[0.1111111111111111,\"#46039f\"],[0.2222222222222222,\"#7201a8\"],[0.3333333333333333,\"#9c179e\"],[0.4444444444444444,\"#bd3786\"],[0.5555555555555556,\"#d8576b\"],[0.6666666666666666,\"#ed7953\"],[0.7777777777777778,\"#fb9f3a\"],[0.8888888888888888,\"#fdca26\"],[1.0,\"#f0f921\"]],\"type\":\"histogram2d\"}],\"histogram\":[{\"marker\":{\"pattern\":{\"fillmode\":\"overlay\",\"size\":10,\"solidity\":0.2}},\"type\":\"histogram\"}],\"mesh3d\":[{\"colorbar\":{\"outlinewidth\":0,\"ticks\":\"\"},\"type\":\"mesh3d\"}],\"parcoords\":[{\"line\":{\"colorbar\":{\"outlinewidth\":0,\"ticks\":\"\"}},\"type\":\"parcoords\"}],\"pie\":[{\"automargin\":true,\"type\":\"pie\"}],\"scatter3d\":[{\"line\":{\"colorbar\":{\"outlinewidth\":0,\"ticks\":\"\"}},\"marker\":{\"colorbar\":{\"outlinewidth\":0,\"ticks\":\"\"}},\"type\":\"scatter3d\"}],\"scattercarpet\":[{\"marker\":{\"colorbar\":{\"outlinewidth\":0,\"ticks\":\"\"}},\"type\":\"scattercarpet\"}],\"scattergeo\":[{\"marker\":{\"colorbar\":{\"outlinewidth\":0,\"ticks\":\"\"}},\"type\":\"scattergeo\"}],\"scattergl\":[{\"marker\":{\"colorbar\":{\"outlinewidth\":0,\"ticks\":\"\"}},\"type\":\"scattergl\"}],\"scattermapbox\":[{\"marker\":{\"colorbar\":{\"outlinewidth\":0,\"ticks\":\"\"}},\"type\":\"scattermapbox\"}],\"scatterpolargl\":[{\"marker\":{\"colorbar\":{\"outlinewidth\":0,\"ticks\":\"\"}},\"type\":\"scatterpolargl\"}],\"scatterpolar\":[{\"marker\":{\"colorbar\":{\"outlinewidth\":0,\"ticks\":\"\"}},\"type\":\"scatterpolar\"}],\"scatter\":[{\"marker\":{\"colorbar\":{\"outlinewidth\":0,\"ticks\":\"\"}},\"type\":\"scatter\"}],\"scatterternary\":[{\"marker\":{\"colorbar\":{\"outlinewidth\":0,\"ticks\":\"\"}},\"type\":\"scatterternary\"}],\"surface\":[{\"colorbar\":{\"outlinewidth\":0,\"ticks\":\"\"},\"colorscale\":[[0.0,\"#0d0887\"],[0.1111111111111111,\"#46039f\"],[0.2222222222222222,\"#7201a8\"],[0.3333333333333333,\"#9c179e\"],[0.4444444444444444,\"#bd3786\"],[0.5555555555555556,\"#d8576b\"],[0.6666666666666666,\"#ed7953\"],[0.7777777777777778,\"#fb9f3a\"],[0.8888888888888888,\"#fdca26\"],[1.0,\"#f0f921\"]],\"type\":\"surface\"}],\"table\":[{\"cells\":{\"fill\":{\"color\":\"#EBF0F8\"},\"line\":{\"color\":\"white\"}},\"header\":{\"fill\":{\"color\":\"#C8D4E3\"},\"line\":{\"color\":\"white\"}},\"type\":\"table\"}]},\"layout\":{\"annotationdefaults\":{\"arrowcolor\":\"#2a3f5f\",\"arrowhead\":0,\"arrowwidth\":1},\"autotypenumbers\":\"strict\",\"coloraxis\":{\"colorbar\":{\"outlinewidth\":0,\"ticks\":\"\"}},\"colorscale\":{\"diverging\":[[0,\"#8e0152\"],[0.1,\"#c51b7d\"],[0.2,\"#de77ae\"],[0.3,\"#f1b6da\"],[0.4,\"#fde0ef\"],[0.5,\"#f7f7f7\"],[0.6,\"#e6f5d0\"],[0.7,\"#b8e186\"],[0.8,\"#7fbc41\"],[0.9,\"#4d9221\"],[1,\"#276419\"]],\"sequential\":[[0.0,\"#0d0887\"],[0.1111111111111111,\"#46039f\"],[0.2222222222222222,\"#7201a8\"],[0.3333333333333333,\"#9c179e\"],[0.4444444444444444,\"#bd3786\"],[0.5555555555555556,\"#d8576b\"],[0.6666666666666666,\"#ed7953\"],[0.7777777777777778,\"#fb9f3a\"],[0.8888888888888888,\"#fdca26\"],[1.0,\"#f0f921\"]],\"sequentialminus\":[[0.0,\"#0d0887\"],[0.1111111111111111,\"#46039f\"],[0.2222222222222222,\"#7201a8\"],[0.3333333333333333,\"#9c179e\"],[0.4444444444444444,\"#bd3786\"],[0.5555555555555556,\"#d8576b\"],[0.6666666666666666,\"#ed7953\"],[0.7777777777777778,\"#fb9f3a\"],[0.8888888888888888,\"#fdca26\"],[1.0,\"#f0f921\"]]},\"colorway\":[\"#636efa\",\"#EF553B\",\"#00cc96\",\"#ab63fa\",\"#FFA15A\",\"#19d3f3\",\"#FF6692\",\"#B6E880\",\"#FF97FF\",\"#FECB52\"],\"font\":{\"color\":\"#2a3f5f\"},\"geo\":{\"bgcolor\":\"white\",\"lakecolor\":\"white\",\"landcolor\":\"#E5ECF6\",\"showlakes\":true,\"showland\":true,\"subunitcolor\":\"white\"},\"hoverlabel\":{\"align\":\"left\"},\"hovermode\":\"closest\",\"mapbox\":{\"style\":\"light\"},\"paper_bgcolor\":\"white\",\"plot_bgcolor\":\"#E5ECF6\",\"polar\":{\"angularaxis\":{\"gridcolor\":\"white\",\"linecolor\":\"white\",\"ticks\":\"\"},\"bgcolor\":\"#E5ECF6\",\"radialaxis\":{\"gridcolor\":\"white\",\"linecolor\":\"white\",\"ticks\":\"\"}},\"scene\":{\"xaxis\":{\"backgroundcolor\":\"#E5ECF6\",\"gridcolor\":\"white\",\"gridwidth\":2,\"linecolor\":\"white\",\"showbackground\":true,\"ticks\":\"\",\"zerolinecolor\":\"white\"},\"yaxis\":{\"backgroundcolor\":\"#E5ECF6\",\"gridcolor\":\"white\",\"gridwidth\":2,\"linecolor\":\"white\",\"showbackground\":true,\"ticks\":\"\",\"zerolinecolor\":\"white\"},\"zaxis\":{\"backgroundcolor\":\"#E5ECF6\",\"gridcolor\":\"white\",\"gridwidth\":2,\"linecolor\":\"white\",\"showbackground\":true,\"ticks\":\"\",\"zerolinecolor\":\"white\"}},\"shapedefaults\":{\"line\":{\"color\":\"#2a3f5f\"}},\"ternary\":{\"aaxis\":{\"gridcolor\":\"white\",\"linecolor\":\"white\",\"ticks\":\"\"},\"baxis\":{\"gridcolor\":\"white\",\"linecolor\":\"white\",\"ticks\":\"\"},\"bgcolor\":\"#E5ECF6\",\"caxis\":{\"gridcolor\":\"white\",\"linecolor\":\"white\",\"ticks\":\"\"}},\"title\":{\"x\":0.05},\"xaxis\":{\"automargin\":true,\"gridcolor\":\"white\",\"linecolor\":\"white\",\"ticks\":\"\",\"title\":{\"standoff\":15},\"zerolinecolor\":\"white\",\"zerolinewidth\":2},\"yaxis\":{\"automargin\":true,\"gridcolor\":\"white\",\"linecolor\":\"white\",\"ticks\":\"\",\"title\":{\"standoff\":15},\"zerolinecolor\":\"white\",\"zerolinewidth\":2}}}},                        {\"responsive\": true}                    ).then(function(){\n",
              "                            \n",
              "var gd = document.getElementById('aeed21dc-549b-46ac-9eb1-851516f1a1a4');\n",
              "var x = new MutationObserver(function (mutations, observer) {{\n",
              "        var display = window.getComputedStyle(gd).display;\n",
              "        if (!display || display === 'none') {{\n",
              "            console.log([gd, 'removed!']);\n",
              "            Plotly.purge(gd);\n",
              "            observer.disconnect();\n",
              "        }}\n",
              "}});\n",
              "\n",
              "// Listen for the removal of the full notebook cells\n",
              "var notebookContainer = gd.closest('#notebook-container');\n",
              "if (notebookContainer) {{\n",
              "    x.observe(notebookContainer, {childList: true});\n",
              "}}\n",
              "\n",
              "// Listen for the clearing of the current output cell\n",
              "var outputEl = gd.closest('.output');\n",
              "if (outputEl) {{\n",
              "    x.observe(outputEl, {childList: true});\n",
              "}}\n",
              "\n",
              "                        })                };                            </script>        </div>\n",
              "</body>\n",
              "</html>"
            ]
          },
          "metadata": {}
        }
      ]
    },
    {
      "cell_type": "markdown",
      "source": [
        "# **Visualização de Dados: Candle Sticks**\n"
      ],
      "metadata": {
        "id": "9htaxGFkkFJ_"
      }
    },
    {
      "cell_type": "markdown",
      "source": [
        "Ver o pacote: https://github.com/matplotlib/mplfinance\n",
        "\n",
        "Sugestão de leitura: https://www.infomoney.com.br/onde-investir/confuso-entre-os-candlestick-conheca-os-principais-padroes-de-reversao/"
      ],
      "metadata": {
        "id": "jNecAj8AkQKN"
      }
    },
    {
      "cell_type": "code",
      "source": [
        "pip install mplfinance"
      ],
      "metadata": {
        "colab": {
          "base_uri": "https://localhost:8080/"
        },
        "id": "24wXVfVPkUgc",
        "outputId": "81d3df48-e7be-450d-c126-0b35d5fbccb6"
      },
      "execution_count": null,
      "outputs": [
        {
          "output_type": "stream",
          "name": "stdout",
          "text": [
            "Looking in indexes: https://pypi.org/simple, https://us-python.pkg.dev/colab-wheels/public/simple/\n",
            "Collecting mplfinance\n",
            "  Downloading mplfinance-0.12.9b1-py3-none-any.whl (70 kB)\n",
            "\u001b[K     |████████████████████████████████| 70 kB 1.9 MB/s \n",
            "\u001b[?25hRequirement already satisfied: matplotlib in /usr/local/lib/python3.7/dist-packages (from mplfinance) (3.2.2)\n",
            "Requirement already satisfied: pandas in /usr/local/lib/python3.7/dist-packages (from mplfinance) (1.3.5)\n",
            "Requirement already satisfied: pyparsing!=2.0.4,!=2.1.2,!=2.1.6,>=2.0.1 in /usr/local/lib/python3.7/dist-packages (from matplotlib->mplfinance) (3.0.9)\n",
            "Requirement already satisfied: python-dateutil>=2.1 in /usr/local/lib/python3.7/dist-packages (from matplotlib->mplfinance) (2.8.2)\n",
            "Requirement already satisfied: numpy>=1.11 in /usr/local/lib/python3.7/dist-packages (from matplotlib->mplfinance) (1.21.6)\n",
            "Requirement already satisfied: kiwisolver>=1.0.1 in /usr/local/lib/python3.7/dist-packages (from matplotlib->mplfinance) (1.4.4)\n",
            "Requirement already satisfied: cycler>=0.10 in /usr/local/lib/python3.7/dist-packages (from matplotlib->mplfinance) (0.11.0)\n",
            "Requirement already satisfied: typing-extensions in /usr/local/lib/python3.7/dist-packages (from kiwisolver>=1.0.1->matplotlib->mplfinance) (4.1.1)\n",
            "Requirement already satisfied: six>=1.5 in /usr/local/lib/python3.7/dist-packages (from python-dateutil>=2.1->matplotlib->mplfinance) (1.15.0)\n",
            "Requirement already satisfied: pytz>=2017.3 in /usr/local/lib/python3.7/dist-packages (from pandas->mplfinance) (2022.4)\n",
            "Installing collected packages: mplfinance\n",
            "Successfully installed mplfinance-0.12.9b1\n"
          ]
        }
      ]
    },
    {
      "cell_type": "code",
      "source": [
        "import mplfinance as mpf"
      ],
      "metadata": {
        "id": "08NP_eetks4H"
      },
      "execution_count": null,
      "outputs": []
    },
    {
      "cell_type": "code",
      "source": [
        "import pandas as pd\n",
        "import yfinance as yf \n",
        "import matplotlib.pyplot as plt"
      ],
      "metadata": {
        "id": "peuUTO-Hkt93"
      },
      "execution_count": null,
      "outputs": []
    },
    {
      "cell_type": "code",
      "source": [
        "codigo = ['BTC-USD']\n",
        "df = yf.download(codigo[0], \n",
        "                 start='2021-09-01', \n",
        "                 end='2021-11-01',\n",
        "                 group_by=\"ticker\"); # \";\" serve para não exibir os dados"
      ],
      "metadata": {
        "colab": {
          "base_uri": "https://localhost:8080/"
        },
        "id": "K1vyXYUjk3Jc",
        "outputId": "7ab33004-6bc0-4d3f-f5b2-c0a94d19f926"
      },
      "execution_count": null,
      "outputs": [
        {
          "output_type": "stream",
          "name": "stdout",
          "text": [
            "\r[*********************100%***********************]  1 of 1 completed\n"
          ]
        }
      ]
    },
    {
      "cell_type": "code",
      "source": [
        "df.head()"
      ],
      "metadata": {
        "colab": {
          "base_uri": "https://localhost:8080/"
        },
        "id": "TVikV8rsk9OL",
        "outputId": "383e63f1-435d-4f26-8efa-fa28f34adde0"
      },
      "execution_count": null,
      "outputs": [
        {
          "output_type": "execute_result",
          "data": {
            "text/plain": [
              "                                   Open          High           Low  \\\n",
              "Date                                                                  \n",
              "2021-09-01 00:00:00+00:00  47099.773438  49111.089844  46562.437500   \n",
              "2021-09-02 00:00:00+00:00  48807.847656  50343.421875  48652.320312   \n",
              "2021-09-03 00:00:00+00:00  49288.250000  50982.273438  48386.085938   \n",
              "2021-09-04 00:00:00+00:00  50009.324219  50545.582031  49548.781250   \n",
              "2021-09-05 00:00:00+00:00  49937.859375  51868.679688  49538.597656   \n",
              "\n",
              "                                  Close     Adj Close       Volume  \n",
              "Date                                                                \n",
              "2021-09-01 00:00:00+00:00  48847.027344  48847.027344  39139399125  \n",
              "2021-09-02 00:00:00+00:00  49327.722656  49327.722656  39508070319  \n",
              "2021-09-03 00:00:00+00:00  50025.375000  50025.375000  43206179619  \n",
              "2021-09-04 00:00:00+00:00  49944.625000  49944.625000  37471327794  \n",
              "2021-09-05 00:00:00+00:00  51753.410156  51753.410156  30322676319  "
            ],
            "text/html": [
              "\n",
              "  <div id=\"df-50b8f8a8-0a09-4fe4-99bd-0a83253ba985\">\n",
              "    <div class=\"colab-df-container\">\n",
              "      <div>\n",
              "<style scoped>\n",
              "    .dataframe tbody tr th:only-of-type {\n",
              "        vertical-align: middle;\n",
              "    }\n",
              "\n",
              "    .dataframe tbody tr th {\n",
              "        vertical-align: top;\n",
              "    }\n",
              "\n",
              "    .dataframe thead th {\n",
              "        text-align: right;\n",
              "    }\n",
              "</style>\n",
              "<table border=\"1\" class=\"dataframe\">\n",
              "  <thead>\n",
              "    <tr style=\"text-align: right;\">\n",
              "      <th></th>\n",
              "      <th>Open</th>\n",
              "      <th>High</th>\n",
              "      <th>Low</th>\n",
              "      <th>Close</th>\n",
              "      <th>Adj Close</th>\n",
              "      <th>Volume</th>\n",
              "    </tr>\n",
              "    <tr>\n",
              "      <th>Date</th>\n",
              "      <th></th>\n",
              "      <th></th>\n",
              "      <th></th>\n",
              "      <th></th>\n",
              "      <th></th>\n",
              "      <th></th>\n",
              "    </tr>\n",
              "  </thead>\n",
              "  <tbody>\n",
              "    <tr>\n",
              "      <th>2021-09-01 00:00:00+00:00</th>\n",
              "      <td>47099.773438</td>\n",
              "      <td>49111.089844</td>\n",
              "      <td>46562.437500</td>\n",
              "      <td>48847.027344</td>\n",
              "      <td>48847.027344</td>\n",
              "      <td>39139399125</td>\n",
              "    </tr>\n",
              "    <tr>\n",
              "      <th>2021-09-02 00:00:00+00:00</th>\n",
              "      <td>48807.847656</td>\n",
              "      <td>50343.421875</td>\n",
              "      <td>48652.320312</td>\n",
              "      <td>49327.722656</td>\n",
              "      <td>49327.722656</td>\n",
              "      <td>39508070319</td>\n",
              "    </tr>\n",
              "    <tr>\n",
              "      <th>2021-09-03 00:00:00+00:00</th>\n",
              "      <td>49288.250000</td>\n",
              "      <td>50982.273438</td>\n",
              "      <td>48386.085938</td>\n",
              "      <td>50025.375000</td>\n",
              "      <td>50025.375000</td>\n",
              "      <td>43206179619</td>\n",
              "    </tr>\n",
              "    <tr>\n",
              "      <th>2021-09-04 00:00:00+00:00</th>\n",
              "      <td>50009.324219</td>\n",
              "      <td>50545.582031</td>\n",
              "      <td>49548.781250</td>\n",
              "      <td>49944.625000</td>\n",
              "      <td>49944.625000</td>\n",
              "      <td>37471327794</td>\n",
              "    </tr>\n",
              "    <tr>\n",
              "      <th>2021-09-05 00:00:00+00:00</th>\n",
              "      <td>49937.859375</td>\n",
              "      <td>51868.679688</td>\n",
              "      <td>49538.597656</td>\n",
              "      <td>51753.410156</td>\n",
              "      <td>51753.410156</td>\n",
              "      <td>30322676319</td>\n",
              "    </tr>\n",
              "  </tbody>\n",
              "</table>\n",
              "</div>\n",
              "      <button class=\"colab-df-convert\" onclick=\"convertToInteractive('df-50b8f8a8-0a09-4fe4-99bd-0a83253ba985')\"\n",
              "              title=\"Convert this dataframe to an interactive table.\"\n",
              "              style=\"display:none;\">\n",
              "        \n",
              "  <svg xmlns=\"http://www.w3.org/2000/svg\" height=\"24px\"viewBox=\"0 0 24 24\"\n",
              "       width=\"24px\">\n",
              "    <path d=\"M0 0h24v24H0V0z\" fill=\"none\"/>\n",
              "    <path d=\"M18.56 5.44l.94 2.06.94-2.06 2.06-.94-2.06-.94-.94-2.06-.94 2.06-2.06.94zm-11 1L8.5 8.5l.94-2.06 2.06-.94-2.06-.94L8.5 2.5l-.94 2.06-2.06.94zm10 10l.94 2.06.94-2.06 2.06-.94-2.06-.94-.94-2.06-.94 2.06-2.06.94z\"/><path d=\"M17.41 7.96l-1.37-1.37c-.4-.4-.92-.59-1.43-.59-.52 0-1.04.2-1.43.59L10.3 9.45l-7.72 7.72c-.78.78-.78 2.05 0 2.83L4 21.41c.39.39.9.59 1.41.59.51 0 1.02-.2 1.41-.59l7.78-7.78 2.81-2.81c.8-.78.8-2.07 0-2.86zM5.41 20L4 18.59l7.72-7.72 1.47 1.35L5.41 20z\"/>\n",
              "  </svg>\n",
              "      </button>\n",
              "      \n",
              "  <style>\n",
              "    .colab-df-container {\n",
              "      display:flex;\n",
              "      flex-wrap:wrap;\n",
              "      gap: 12px;\n",
              "    }\n",
              "\n",
              "    .colab-df-convert {\n",
              "      background-color: #E8F0FE;\n",
              "      border: none;\n",
              "      border-radius: 50%;\n",
              "      cursor: pointer;\n",
              "      display: none;\n",
              "      fill: #1967D2;\n",
              "      height: 32px;\n",
              "      padding: 0 0 0 0;\n",
              "      width: 32px;\n",
              "    }\n",
              "\n",
              "    .colab-df-convert:hover {\n",
              "      background-color: #E2EBFA;\n",
              "      box-shadow: 0px 1px 2px rgba(60, 64, 67, 0.3), 0px 1px 3px 1px rgba(60, 64, 67, 0.15);\n",
              "      fill: #174EA6;\n",
              "    }\n",
              "\n",
              "    [theme=dark] .colab-df-convert {\n",
              "      background-color: #3B4455;\n",
              "      fill: #D2E3FC;\n",
              "    }\n",
              "\n",
              "    [theme=dark] .colab-df-convert:hover {\n",
              "      background-color: #434B5C;\n",
              "      box-shadow: 0px 1px 3px 1px rgba(0, 0, 0, 0.15);\n",
              "      filter: drop-shadow(0px 1px 2px rgba(0, 0, 0, 0.3));\n",
              "      fill: #FFFFFF;\n",
              "    }\n",
              "  </style>\n",
              "\n",
              "      <script>\n",
              "        const buttonEl =\n",
              "          document.querySelector('#df-50b8f8a8-0a09-4fe4-99bd-0a83253ba985 button.colab-df-convert');\n",
              "        buttonEl.style.display =\n",
              "          google.colab.kernel.accessAllowed ? 'block' : 'none';\n",
              "\n",
              "        async function convertToInteractive(key) {\n",
              "          const element = document.querySelector('#df-50b8f8a8-0a09-4fe4-99bd-0a83253ba985');\n",
              "          const dataTable =\n",
              "            await google.colab.kernel.invokeFunction('convertToInteractive',\n",
              "                                                     [key], {});\n",
              "          if (!dataTable) return;\n",
              "\n",
              "          const docLinkHtml = 'Like what you see? Visit the ' +\n",
              "            '<a target=\"_blank\" href=https://colab.research.google.com/notebooks/data_table.ipynb>data table notebook</a>'\n",
              "            + ' to learn more about interactive tables.';\n",
              "          element.innerHTML = '';\n",
              "          dataTable['output_type'] = 'display_data';\n",
              "          await google.colab.output.renderOutput(dataTable, element);\n",
              "          const docLink = document.createElement('div');\n",
              "          docLink.innerHTML = docLinkHtml;\n",
              "          element.appendChild(docLink);\n",
              "        }\n",
              "      </script>\n",
              "    </div>\n",
              "  </div>\n",
              "  "
            ]
          },
          "metadata": {},
          "execution_count": 20
        }
      ]
    },
    {
      "cell_type": "code",
      "source": [
        "mpf.plot(df, type=\"candle\", volume=True, style=\"yahoo\")"
      ],
      "metadata": {
        "colab": {
          "base_uri": "https://localhost:8080/"
        },
        "id": "zjpe__gIlA9j",
        "outputId": "bba1d0bb-12ae-474c-848d-9096390e4d8a"
      },
      "execution_count": null,
      "outputs": [
        {
          "output_type": "display_data",
          "data": {
            "text/plain": [
              "<Figure size 800x575 with 4 Axes>"
            ],
            "image/png": "[encoded data removed]"
          },
          "metadata": {}
        }
      ]
    },
    {
      "cell_type": "markdown",
      "source": [
        "# **Comparar Várias Ações**"
      ],
      "metadata": {
        "id": "vJ1obOuOkAHR"
      }
    },
    {
      "cell_type": "code",
      "source": [
        "tickers = ['MMMC34.SA', 'ABUD34.SA', 'A1BB34.SA', 'ABTT34.SA', 'ABBV34.SA']\n",
        "\n",
        "df = yf.download(tickers, \n",
        "                 start='2021-08-01', \n",
        "                 end='2021-10-01',\n",
        "                 group_by=\"ticker\");"
      ],
      "metadata": {
        "colab": {
          "base_uri": "https://localhost:8080/"
        },
        "id": "3uito_IZd8W3",
        "outputId": "f5c13be3-10e8-4686-f93b-487b559b9f9c"
      },
      "execution_count": null,
      "outputs": [
        {
          "output_type": "stream",
          "name": "stdout",
          "text": [
            "[*********************100%***********************]  5 of 5 completed\n"
          ]
        }
      ]
    },
    {
      "cell_type": "code",
      "source": [
        "for acao in tickers:\n",
        "  serie = df[acao, 'Close']\n",
        "  serie.plot()\n",
        "\n",
        "plt.title(\"Cotação x tempo\", fontsize = 25)\n",
        "# Legendas\n",
        "#plt.legend(loc='lower left')\n",
        "#plt.legend(loc=2)\n",
        "plt.legend(loc='best')\n",
        "plt.figure();"
      ],
      "metadata": {
        "colab": {
          "base_uri": "https://localhost:8080/",
          "height": 498
        },
        "id": "qDZWrgOId-_G",
        "outputId": "503fad2d-789c-46f8-b562-2758de8bd0c1"
      },
      "execution_count": null,
      "outputs": [
        {
          "output_type": "display_data",
          "data": {
            "text/plain": [
              "<Figure size 640x480 with 1 Axes>"
            ],
            "image/png": "[encoded data removed]"
          },
          "metadata": {}
        },
        {
          "output_type": "display_data",
          "data": {
            "text/plain": [
              "<Figure size 640x480 with 0 Axes>"
            ]
          },
          "metadata": {}
        }
      ]
    },
    {
      "cell_type": "markdown",
      "source": [
        "# **Criptomoedas**"
      ],
      "metadata": {
        "id": "jUXFbS5PAhxO"
      }
    },
    {
      "cell_type": "code",
      "source": [
        "pip install yahoo_fin"
      ],
      "metadata": {
        "colab": {
          "base_uri": "https://localhost:8080/",
          "height": 1000
        },
        "id": "DEqiD8MzA8Do",
        "outputId": "effe73b9-5f47-43f6-adee-7875919ed1df"
      },
      "execution_count": null,
      "outputs": [
        {
          "output_type": "stream",
          "name": "stdout",
          "text": [
            "Looking in indexes: https://pypi.org/simple, https://us-python.pkg.dev/colab-wheels/public/simple/\n",
            "Collecting yahoo_fin\n",
            "  Downloading yahoo_fin-0.8.9.1-py3-none-any.whl (10 kB)\n",
            "Collecting feedparser\n",
            "  Downloading feedparser-6.0.10-py3-none-any.whl (81 kB)\n",
            "\u001b[K     |████████████████████████████████| 81 kB 2.0 MB/s \n",
            "\u001b[?25hCollecting requests-html\n",
            "  Downloading requests_html-0.10.0-py3-none-any.whl (13 kB)\n",
            "Requirement already satisfied: pandas in /usr/local/lib/python3.7/dist-packages (from yahoo_fin) (1.3.5)\n",
            "Requirement already satisfied: requests in /usr/local/lib/python3.7/dist-packages (from yahoo_fin) (2.28.1)\n",
            "Collecting sgmllib3k\n",
            "  Downloading sgmllib3k-1.0.0.tar.gz (5.8 kB)\n",
            "Requirement already satisfied: pytz>=2017.3 in /usr/local/lib/python3.7/dist-packages (from pandas->yahoo_fin) (2022.4)\n",
            "Requirement already satisfied: python-dateutil>=2.7.3 in /usr/local/lib/python3.7/dist-packages (from pandas->yahoo_fin) (2.8.2)\n",
            "Requirement already satisfied: numpy>=1.17.3 in /usr/local/lib/python3.7/dist-packages (from pandas->yahoo_fin) (1.21.6)\n",
            "Requirement already satisfied: six>=1.5 in /usr/local/lib/python3.7/dist-packages (from python-dateutil>=2.7.3->pandas->yahoo_fin) (1.15.0)\n",
            "Requirement already satisfied: charset-normalizer<3,>=2 in /usr/local/lib/python3.7/dist-packages (from requests->yahoo_fin) (2.1.1)\n",
            "Requirement already satisfied: urllib3<1.27,>=1.21.1 in /usr/local/lib/python3.7/dist-packages (from requests->yahoo_fin) (1.24.3)\n",
            "Requirement already satisfied: idna<4,>=2.5 in /usr/local/lib/python3.7/dist-packages (from requests->yahoo_fin) (2.10)\n",
            "Requirement already satisfied: certifi>=2017.4.17 in /usr/local/lib/python3.7/dist-packages (from requests->yahoo_fin) (2022.9.24)\n",
            "Collecting pyquery\n",
            "  Downloading pyquery-1.4.3-py3-none-any.whl (22 kB)\n",
            "Collecting parse\n",
            "  Downloading parse-1.19.0.tar.gz (30 kB)\n",
            "Collecting pyppeteer>=0.0.14\n",
            "  Downloading pyppeteer-1.0.2-py3-none-any.whl (83 kB)\n",
            "\u001b[K     |████████████████████████████████| 83 kB 1.6 MB/s \n",
            "\u001b[?25hCollecting w3lib\n",
            "  Downloading w3lib-2.0.1-py3-none-any.whl (20 kB)\n",
            "Requirement already satisfied: bs4 in /usr/local/lib/python3.7/dist-packages (from requests-html->yahoo_fin) (0.0.1)\n",
            "Collecting fake-useragent\n",
            "  Downloading fake-useragent-0.1.11.tar.gz (13 kB)\n",
            "Collecting pyee<9.0.0,>=8.1.0\n",
            "  Downloading pyee-8.2.2-py2.py3-none-any.whl (12 kB)\n",
            "Requirement already satisfied: appdirs<2.0.0,>=1.4.3 in /usr/local/lib/python3.7/dist-packages (from pyppeteer>=0.0.14->requests-html->yahoo_fin) (1.4.4)\n",
            "Requirement already satisfied: tqdm<5.0.0,>=4.42.1 in /usr/local/lib/python3.7/dist-packages (from pyppeteer>=0.0.14->requests-html->yahoo_fin) (4.64.1)\n",
            "Collecting websockets<11.0,>=10.0\n",
            "  Downloading websockets-10.3-cp37-cp37m-manylinux_2_5_x86_64.manylinux1_x86_64.manylinux_2_12_x86_64.manylinux2010_x86_64.whl (112 kB)\n",
            "\u001b[K     |████████████████████████████████| 112 kB 14.5 MB/s \n",
            "\u001b[?25hRequirement already satisfied: importlib-metadata>=1.4 in /usr/local/lib/python3.7/dist-packages (from pyppeteer>=0.0.14->requests-html->yahoo_fin) (5.0.0)\n",
            "Collecting urllib3<1.27,>=1.21.1\n",
            "  Downloading urllib3-1.26.12-py2.py3-none-any.whl (140 kB)\n",
            "\u001b[K     |████████████████████████████████| 140 kB 23.1 MB/s \n",
            "\u001b[?25hRequirement already satisfied: typing-extensions>=3.6.4 in /usr/local/lib/python3.7/dist-packages (from importlib-metadata>=1.4->pyppeteer>=0.0.14->requests-html->yahoo_fin) (4.1.1)\n",
            "Requirement already satisfied: zipp>=0.5 in /usr/local/lib/python3.7/dist-packages (from importlib-metadata>=1.4->pyppeteer>=0.0.14->requests-html->yahoo_fin) (3.8.1)\n",
            "Requirement already satisfied: beautifulsoup4 in /usr/local/lib/python3.7/dist-packages (from bs4->requests-html->yahoo_fin) (4.6.3)\n",
            "Collecting cssselect>0.7.9\n",
            "  Downloading cssselect-1.1.0-py2.py3-none-any.whl (16 kB)\n",
            "Requirement already satisfied: lxml>=2.1 in /usr/local/lib/python3.7/dist-packages (from pyquery->requests-html->yahoo_fin) (4.9.1)\n",
            "Building wheels for collected packages: fake-useragent, parse, sgmllib3k\n",
            "  Building wheel for fake-useragent (setup.py) ... \u001b[?25l\u001b[?25hdone\n",
            "  Created wheel for fake-useragent: filename=fake_useragent-0.1.11-py3-none-any.whl size=13502 sha256=cf56cc2f17c221071b3948a610f8ca59c84208c4f32b2e3d7039e640c0085a03\n",
            "  Stored in directory: /root/.cache/pip/wheels/ed/f7/62/50ab6c9a0b5567267ab76a9daa9d06315704209b2c5d032031\n",
            "  Building wheel for parse (setup.py) ... \u001b[?25l\u001b[?25hdone\n",
            "  Created wheel for parse: filename=parse-1.19.0-py3-none-any.whl size=24591 sha256=9510ba0227ddc3f97df9c218fb0140bc80880d27d885e847087ee279ca4dbc1d\n",
            "  Stored in directory: /root/.cache/pip/wheels/9c/aa/cc/f2228050ccb40f22144b073f15a2c84f11204f29fc0dce028e\n",
            "  Building wheel for sgmllib3k (setup.py) ... \u001b[?25l\u001b[?25hdone\n",
            "  Created wheel for sgmllib3k: filename=sgmllib3k-1.0.0-py3-none-any.whl size=6066 sha256=31d74de4d0e01f926b9fa028d8e1ed2f2821500eb700e5660df33d3c42729436\n",
            "  Stored in directory: /root/.cache/pip/wheels/73/ad/a4/0dff4a6ef231fc0dfa12ffbac2a36cebfdddfe059f50e019aa\n",
            "Successfully built fake-useragent parse sgmllib3k\n",
            "Installing collected packages: websockets, urllib3, pyee, cssselect, w3lib, sgmllib3k, pyquery, pyppeteer, parse, fake-useragent, requests-html, feedparser, yahoo-fin\n",
            "  Attempting uninstall: urllib3\n",
            "    Found existing installation: urllib3 1.24.3\n",
            "    Uninstalling urllib3-1.24.3:\n",
            "      Successfully uninstalled urllib3-1.24.3\n",
            "Successfully installed cssselect-1.1.0 fake-useragent-0.1.11 feedparser-6.0.10 parse-1.19.0 pyee-8.2.2 pyppeteer-1.0.2 pyquery-1.4.3 requests-html-0.10.0 sgmllib3k-1.0.0 urllib3-1.26.12 w3lib-2.0.1 websockets-10.3 yahoo-fin-0.8.9.1\n"
          ]
        },
        {
          "output_type": "display_data",
          "data": {
            "application/vnd.colab-display-data+json": {
              "pip_warning": {
                "packages": [
                  "urllib3"
                ]
              }
            }
          },
          "metadata": {}
        }
      ]
    },
    {
      "cell_type": "code",
      "source": [
        "from yahoo_fin.stock_info import get_data"
      ],
      "metadata": {
        "id": "Z2z4YxdxA2wr"
      },
      "execution_count": null,
      "outputs": []
    },
    {
      "cell_type": "code",
      "source": [
        "from datetime import datetime\n",
        "\n",
        "# get data until today\n",
        "end = datetime.today()\n",
        "\n",
        "# get data two years from today\n",
        "start = datetime(end.year-2, end.month, end.day)\n",
        "\n",
        "btc_trend = get_data(\"BTC-EUR\", start_date=start, end_date=end,\n",
        "                        index_as_date = True, interval=\"1d\")\n",
        "\n",
        "eth_trend = get_data(\"ETH-EUR\", start_date=start, end_date=end,\n",
        "                        index_as_date = True, interval=\"1d\")\n",
        "\n",
        "bch_trend = get_data(\"BCH-EUR\", start_date=start, end_date=end,\n",
        "                        index_as_date = True, interval=\"1d\")\n",
        "\n",
        "ltc_trend = get_data(\"LTC-EUR\", start_date=start, end_date=end,\n",
        "                        index_as_date = True, interval=\"1d\")\n",
        "\n",
        "xrp_trend = get_data(\"XRP-EUR\", start_date=start, end_date=end,\n",
        "                        index_as_date = True, interval=\"1d\")\n",
        "\n",
        "doge_trend = get_data(\"DOGE-EUR\", start_date=start, end_date=end,\n",
        "                        index_as_date = True, interval=\"1d\")"
      ],
      "metadata": {
        "id": "TEDyro_qAkg0"
      },
      "execution_count": null,
      "outputs": []
    },
    {
      "cell_type": "code",
      "source": [
        "import pandas as pd\n",
        "\n",
        "heat_ds = pd.DataFrame(columns=['btc','eth','bch','ltc','xrp','doge'])\n",
        "\n",
        "heat_ds['btc'] = btc_trend['adjclose']\n",
        "\n",
        "heat_ds['eth'] = eth_trend['adjclose']\n",
        "\n",
        "heat_ds['bch'] = bch_trend['adjclose']\n",
        "\n",
        "heat_ds['ltc'] = ltc_trend['adjclose']\n",
        "\n",
        "heat_ds['xrp'] = xrp_trend['adjclose']\n",
        "\n",
        "heat_ds['doge'] = doge_trend['adjclose']"
      ],
      "metadata": {
        "id": "trliJpUMBO3l"
      },
      "execution_count": null,
      "outputs": []
    },
    {
      "cell_type": "code",
      "source": [
        "heat_corr_pearson = heat_ds.corr(method ='pearson')\n",
        "\n",
        "heat_corr_spearman = heat_ds.corr(method ='spearman')\n"
      ],
      "metadata": {
        "id": "rDfKM47BBSuU"
      },
      "execution_count": null,
      "outputs": []
    },
    {
      "cell_type": "code",
      "source": [
        "heat_corr_pearson"
      ],
      "metadata": {
        "colab": {
          "base_uri": "https://localhost:8080/",
          "height": 237
        },
        "id": "wil4IGdwBZz6",
        "outputId": "9e663bf1-a575-4f0e-f4fe-5a76d2ee6f7d"
      },
      "execution_count": null,
      "outputs": [
        {
          "output_type": "execute_result",
          "data": {
            "text/plain": [
              "           btc       eth       bch       ltc       xrp      doge\n",
              "btc   1.000000  0.803377  0.697838  0.840980  0.751435  0.571575\n",
              "eth   0.803377  1.000000  0.489227  0.580685  0.779121  0.712264\n",
              "bch   0.697838  0.489227  1.000000  0.947888  0.773017  0.760719\n",
              "ltc   0.840980  0.580685  0.947888  1.000000  0.777170  0.683313\n",
              "xrp   0.751435  0.779121  0.773017  0.777170  1.000000  0.836441\n",
              "doge  0.571575  0.712264  0.760719  0.683313  0.836441  1.000000"
            ],
            "text/html": [
              "\n",
              "  <div id=\"df-447fbcd9-b68d-4de3-8d00-7d5a3b84b5d6\">\n",
              "    <div class=\"colab-df-container\">\n",
              "      <div>\n",
              "<style scoped>\n",
              "    .dataframe tbody tr th:only-of-type {\n",
              "        vertical-align: middle;\n",
              "    }\n",
              "\n",
              "    .dataframe tbody tr th {\n",
              "        vertical-align: top;\n",
              "    }\n",
              "\n",
              "    .dataframe thead th {\n",
              "        text-align: right;\n",
              "    }\n",
              "</style>\n",
              "<table border=\"1\" class=\"dataframe\">\n",
              "  <thead>\n",
              "    <tr style=\"text-align: right;\">\n",
              "      <th></th>\n",
              "      <th>btc</th>\n",
              "      <th>eth</th>\n",
              "      <th>bch</th>\n",
              "      <th>ltc</th>\n",
              "      <th>xrp</th>\n",
              "      <th>doge</th>\n",
              "    </tr>\n",
              "  </thead>\n",
              "  <tbody>\n",
              "    <tr>\n",
              "      <th>btc</th>\n",
              "      <td>1.000000</td>\n",
              "      <td>0.803377</td>\n",
              "      <td>0.697838</td>\n",
              "      <td>0.840980</td>\n",
              "      <td>0.751435</td>\n",
              "      <td>0.571575</td>\n",
              "    </tr>\n",
              "    <tr>\n",
              "      <th>eth</th>\n",
              "      <td>0.803377</td>\n",
              "      <td>1.000000</td>\n",
              "      <td>0.489227</td>\n",
              "      <td>0.580685</td>\n",
              "      <td>0.779121</td>\n",
              "      <td>0.712264</td>\n",
              "    </tr>\n",
              "    <tr>\n",
              "      <th>bch</th>\n",
              "      <td>0.697838</td>\n",
              "      <td>0.489227</td>\n",
              "      <td>1.000000</td>\n",
              "      <td>0.947888</td>\n",
              "      <td>0.773017</td>\n",
              "      <td>0.760719</td>\n",
              "    </tr>\n",
              "    <tr>\n",
              "      <th>ltc</th>\n",
              "      <td>0.840980</td>\n",
              "      <td>0.580685</td>\n",
              "      <td>0.947888</td>\n",
              "      <td>1.000000</td>\n",
              "      <td>0.777170</td>\n",
              "      <td>0.683313</td>\n",
              "    </tr>\n",
              "    <tr>\n",
              "      <th>xrp</th>\n",
              "      <td>0.751435</td>\n",
              "      <td>0.779121</td>\n",
              "      <td>0.773017</td>\n",
              "      <td>0.777170</td>\n",
              "      <td>1.000000</td>\n",
              "      <td>0.836441</td>\n",
              "    </tr>\n",
              "    <tr>\n",
              "      <th>doge</th>\n",
              "      <td>0.571575</td>\n",
              "      <td>0.712264</td>\n",
              "      <td>0.760719</td>\n",
              "      <td>0.683313</td>\n",
              "      <td>0.836441</td>\n",
              "      <td>1.000000</td>\n",
              "    </tr>\n",
              "  </tbody>\n",
              "</table>\n",
              "</div>\n",
              "      <button class=\"colab-df-convert\" onclick=\"convertToInteractive('df-447fbcd9-b68d-4de3-8d00-7d5a3b84b5d6')\"\n",
              "              title=\"Convert this dataframe to an interactive table.\"\n",
              "              style=\"display:none;\">\n",
              "        \n",
              "  <svg xmlns=\"http://www.w3.org/2000/svg\" height=\"24px\"viewBox=\"0 0 24 24\"\n",
              "       width=\"24px\">\n",
              "    <path d=\"M0 0h24v24H0V0z\" fill=\"none\"/>\n",
              "    <path d=\"M18.56 5.44l.94 2.06.94-2.06 2.06-.94-2.06-.94-.94-2.06-.94 2.06-2.06.94zm-11 1L8.5 8.5l.94-2.06 2.06-.94-2.06-.94L8.5 2.5l-.94 2.06-2.06.94zm10 10l.94 2.06.94-2.06 2.06-.94-2.06-.94-.94-2.06-.94 2.06-2.06.94z\"/><path d=\"M17.41 7.96l-1.37-1.37c-.4-.4-.92-.59-1.43-.59-.52 0-1.04.2-1.43.59L10.3 9.45l-7.72 7.72c-.78.78-.78 2.05 0 2.83L4 21.41c.39.39.9.59 1.41.59.51 0 1.02-.2 1.41-.59l7.78-7.78 2.81-2.81c.8-.78.8-2.07 0-2.86zM5.41 20L4 18.59l7.72-7.72 1.47 1.35L5.41 20z\"/>\n",
              "  </svg>\n",
              "      </button>\n",
              "      \n",
              "  <style>\n",
              "    .colab-df-container {\n",
              "      display:flex;\n",
              "      flex-wrap:wrap;\n",
              "      gap: 12px;\n",
              "    }\n",
              "\n",
              "    .colab-df-convert {\n",
              "      background-color: #E8F0FE;\n",
              "      border: none;\n",
              "      border-radius: 50%;\n",
              "      cursor: pointer;\n",
              "      display: none;\n",
              "      fill: #1967D2;\n",
              "      height: 32px;\n",
              "      padding: 0 0 0 0;\n",
              "      width: 32px;\n",
              "    }\n",
              "\n",
              "    .colab-df-convert:hover {\n",
              "      background-color: #E2EBFA;\n",
              "      box-shadow: 0px 1px 2px rgba(60, 64, 67, 0.3), 0px 1px 3px 1px rgba(60, 64, 67, 0.15);\n",
              "      fill: #174EA6;\n",
              "    }\n",
              "\n",
              "    [theme=dark] .colab-df-convert {\n",
              "      background-color: #3B4455;\n",
              "      fill: #D2E3FC;\n",
              "    }\n",
              "\n",
              "    [theme=dark] .colab-df-convert:hover {\n",
              "      background-color: #434B5C;\n",
              "      box-shadow: 0px 1px 3px 1px rgba(0, 0, 0, 0.15);\n",
              "      filter: drop-shadow(0px 1px 2px rgba(0, 0, 0, 0.3));\n",
              "      fill: #FFFFFF;\n",
              "    }\n",
              "  </style>\n",
              "\n",
              "      <script>\n",
              "        const buttonEl =\n",
              "          document.querySelector('#df-447fbcd9-b68d-4de3-8d00-7d5a3b84b5d6 button.colab-df-convert');\n",
              "        buttonEl.style.display =\n",
              "          google.colab.kernel.accessAllowed ? 'block' : 'none';\n",
              "\n",
              "        async function convertToInteractive(key) {\n",
              "          const element = document.querySelector('#df-447fbcd9-b68d-4de3-8d00-7d5a3b84b5d6');\n",
              "          const dataTable =\n",
              "            await google.colab.kernel.invokeFunction('convertToInteractive',\n",
              "                                                     [key], {});\n",
              "          if (!dataTable) return;\n",
              "\n",
              "          const docLinkHtml = 'Like what you see? Visit the ' +\n",
              "            '<a target=\"_blank\" href=https://colab.research.google.com/notebooks/data_table.ipynb>data table notebook</a>'\n",
              "            + ' to learn more about interactive tables.';\n",
              "          element.innerHTML = '';\n",
              "          dataTable['output_type'] = 'display_data';\n",
              "          await google.colab.output.renderOutput(dataTable, element);\n",
              "          const docLink = document.createElement('div');\n",
              "          docLink.innerHTML = docLinkHtml;\n",
              "          element.appendChild(docLink);\n",
              "        }\n",
              "      </script>\n",
              "    </div>\n",
              "  </div>\n",
              "  "
            ]
          },
          "metadata": {},
          "execution_count": 32
        }
      ]
    },
    {
      "cell_type": "code",
      "source": [
        "heat_corr_spearman"
      ],
      "metadata": {
        "colab": {
          "base_uri": "https://localhost:8080/",
          "height": 237
        },
        "id": "je6KyOUgBbw6",
        "outputId": "18c0f75a-9512-40a6-e3ef-7bde1f770152"
      },
      "execution_count": null,
      "outputs": [
        {
          "output_type": "execute_result",
          "data": {
            "text/plain": [
              "           btc       eth       bch       ltc       xrp      doge\n",
              "btc   1.000000  0.776051  0.779994  0.880075  0.772578  0.592595\n",
              "eth   0.776051  1.000000  0.545448  0.596358  0.852255  0.824561\n",
              "bch   0.779994  0.545448  1.000000  0.948512  0.744912  0.639598\n",
              "ltc   0.880075  0.596358  0.948512  1.000000  0.739903  0.594393\n",
              "xrp   0.772578  0.852255  0.744912  0.739903  1.000000  0.845380\n",
              "doge  0.592595  0.824561  0.639598  0.594393  0.845380  1.000000"
            ],
            "text/html": [
              "\n",
              "  <div id=\"df-7420e849-555b-4f88-bf11-bcea83583181\">\n",
              "    <div class=\"colab-df-container\">\n",
              "      <div>\n",
              "<style scoped>\n",
              "    .dataframe tbody tr th:only-of-type {\n",
              "        vertical-align: middle;\n",
              "    }\n",
              "\n",
              "    .dataframe tbody tr th {\n",
              "        vertical-align: top;\n",
              "    }\n",
              "\n",
              "    .dataframe thead th {\n",
              "        text-align: right;\n",
              "    }\n",
              "</style>\n",
              "<table border=\"1\" class=\"dataframe\">\n",
              "  <thead>\n",
              "    <tr style=\"text-align: right;\">\n",
              "      <th></th>\n",
              "      <th>btc</th>\n",
              "      <th>eth</th>\n",
              "      <th>bch</th>\n",
              "      <th>ltc</th>\n",
              "      <th>xrp</th>\n",
              "      <th>doge</th>\n",
              "    </tr>\n",
              "  </thead>\n",
              "  <tbody>\n",
              "    <tr>\n",
              "      <th>btc</th>\n",
              "      <td>1.000000</td>\n",
              "      <td>0.776051</td>\n",
              "      <td>0.779994</td>\n",
              "      <td>0.880075</td>\n",
              "      <td>0.772578</td>\n",
              "      <td>0.592595</td>\n",
              "    </tr>\n",
              "    <tr>\n",
              "      <th>eth</th>\n",
              "      <td>0.776051</td>\n",
              "      <td>1.000000</td>\n",
              "      <td>0.545448</td>\n",
              "      <td>0.596358</td>\n",
              "      <td>0.852255</td>\n",
              "      <td>0.824561</td>\n",
              "    </tr>\n",
              "    <tr>\n",
              "      <th>bch</th>\n",
              "      <td>0.779994</td>\n",
              "      <td>0.545448</td>\n",
              "      <td>1.000000</td>\n",
              "      <td>0.948512</td>\n",
              "      <td>0.744912</td>\n",
              "      <td>0.639598</td>\n",
              "    </tr>\n",
              "    <tr>\n",
              "      <th>ltc</th>\n",
              "      <td>0.880075</td>\n",
              "      <td>0.596358</td>\n",
              "      <td>0.948512</td>\n",
              "      <td>1.000000</td>\n",
              "      <td>0.739903</td>\n",
              "      <td>0.594393</td>\n",
              "    </tr>\n",
              "    <tr>\n",
              "      <th>xrp</th>\n",
              "      <td>0.772578</td>\n",
              "      <td>0.852255</td>\n",
              "      <td>0.744912</td>\n",
              "      <td>0.739903</td>\n",
              "      <td>1.000000</td>\n",
              "      <td>0.845380</td>\n",
              "    </tr>\n",
              "    <tr>\n",
              "      <th>doge</th>\n",
              "      <td>0.592595</td>\n",
              "      <td>0.824561</td>\n",
              "      <td>0.639598</td>\n",
              "      <td>0.594393</td>\n",
              "      <td>0.845380</td>\n",
              "      <td>1.000000</td>\n",
              "    </tr>\n",
              "  </tbody>\n",
              "</table>\n",
              "</div>\n",
              "      <button class=\"colab-df-convert\" onclick=\"convertToInteractive('df-7420e849-555b-4f88-bf11-bcea83583181')\"\n",
              "              title=\"Convert this dataframe to an interactive table.\"\n",
              "              style=\"display:none;\">\n",
              "        \n",
              "  <svg xmlns=\"http://www.w3.org/2000/svg\" height=\"24px\"viewBox=\"0 0 24 24\"\n",
              "       width=\"24px\">\n",
              "    <path d=\"M0 0h24v24H0V0z\" fill=\"none\"/>\n",
              "    <path d=\"M18.56 5.44l.94 2.06.94-2.06 2.06-.94-2.06-.94-.94-2.06-.94 2.06-2.06.94zm-11 1L8.5 8.5l.94-2.06 2.06-.94-2.06-.94L8.5 2.5l-.94 2.06-2.06.94zm10 10l.94 2.06.94-2.06 2.06-.94-2.06-.94-.94-2.06-.94 2.06-2.06.94z\"/><path d=\"M17.41 7.96l-1.37-1.37c-.4-.4-.92-.59-1.43-.59-.52 0-1.04.2-1.43.59L10.3 9.45l-7.72 7.72c-.78.78-.78 2.05 0 2.83L4 21.41c.39.39.9.59 1.41.59.51 0 1.02-.2 1.41-.59l7.78-7.78 2.81-2.81c.8-.78.8-2.07 0-2.86zM5.41 20L4 18.59l7.72-7.72 1.47 1.35L5.41 20z\"/>\n",
              "  </svg>\n",
              "      </button>\n",
              "      \n",
              "  <style>\n",
              "    .colab-df-container {\n",
              "      display:flex;\n",
              "      flex-wrap:wrap;\n",
              "      gap: 12px;\n",
              "    }\n",
              "\n",
              "    .colab-df-convert {\n",
              "      background-color: #E8F0FE;\n",
              "      border: none;\n",
              "      border-radius: 50%;\n",
              "      cursor: pointer;\n",
              "      display: none;\n",
              "      fill: #1967D2;\n",
              "      height: 32px;\n",
              "      padding: 0 0 0 0;\n",
              "      width: 32px;\n",
              "    }\n",
              "\n",
              "    .colab-df-convert:hover {\n",
              "      background-color: #E2EBFA;\n",
              "      box-shadow: 0px 1px 2px rgba(60, 64, 67, 0.3), 0px 1px 3px 1px rgba(60, 64, 67, 0.15);\n",
              "      fill: #174EA6;\n",
              "    }\n",
              "\n",
              "    [theme=dark] .colab-df-convert {\n",
              "      background-color: #3B4455;\n",
              "      fill: #D2E3FC;\n",
              "    }\n",
              "\n",
              "    [theme=dark] .colab-df-convert:hover {\n",
              "      background-color: #434B5C;\n",
              "      box-shadow: 0px 1px 3px 1px rgba(0, 0, 0, 0.15);\n",
              "      filter: drop-shadow(0px 1px 2px rgba(0, 0, 0, 0.3));\n",
              "      fill: #FFFFFF;\n",
              "    }\n",
              "  </style>\n",
              "\n",
              "      <script>\n",
              "        const buttonEl =\n",
              "          document.querySelector('#df-7420e849-555b-4f88-bf11-bcea83583181 button.colab-df-convert');\n",
              "        buttonEl.style.display =\n",
              "          google.colab.kernel.accessAllowed ? 'block' : 'none';\n",
              "\n",
              "        async function convertToInteractive(key) {\n",
              "          const element = document.querySelector('#df-7420e849-555b-4f88-bf11-bcea83583181');\n",
              "          const dataTable =\n",
              "            await google.colab.kernel.invokeFunction('convertToInteractive',\n",
              "                                                     [key], {});\n",
              "          if (!dataTable) return;\n",
              "\n",
              "          const docLinkHtml = 'Like what you see? Visit the ' +\n",
              "            '<a target=\"_blank\" href=https://colab.research.google.com/notebooks/data_table.ipynb>data table notebook</a>'\n",
              "            + ' to learn more about interactive tables.';\n",
              "          element.innerHTML = '';\n",
              "          dataTable['output_type'] = 'display_data';\n",
              "          await google.colab.output.renderOutput(dataTable, element);\n",
              "          const docLink = document.createElement('div');\n",
              "          docLink.innerHTML = docLinkHtml;\n",
              "          element.appendChild(docLink);\n",
              "        }\n",
              "      </script>\n",
              "    </div>\n",
              "  </div>\n",
              "  "
            ]
          },
          "metadata": {},
          "execution_count": 33
        }
      ]
    },
    {
      "cell_type": "code",
      "source": [
        "import numpy as np\n",
        "import matplotlib.pyplot as plt\n",
        "import seaborn as sns\n",
        "\n",
        "# All variables\n",
        "plt.figure(5, figsize=(25, 10))\n",
        "\n",
        "mask = np.triu(np.ones_like(heat_corr_pearson, dtype=bool))\n",
        "\n",
        "ax = sns.heatmap(heat_corr_pearson, mask=mask,\n",
        "                 xticklabels=heat_corr_pearson.columns,\n",
        "                 yticklabels=heat_corr_pearson.columns,\n",
        "                 annot=True, linewidths=.2,\n",
        "                 cmap='coolwarm',\n",
        "                 vmin=0.5, vmax=1)"
      ],
      "metadata": {
        "colab": {
          "base_uri": "https://localhost:8080/",
          "height": 430
        },
        "id": "aNXc3ZuGBX7r",
        "outputId": "e3a087b2-128c-405b-9d30-6a3278bc7ce5"
      },
      "execution_count": null,
      "outputs": [
        {
          "output_type": "display_data",
          "data": {
            "text/plain": [
              "<Figure size 2500x1000 with 2 Axes>"
            ],
            "image/png": "[encoded data removed]"
          },
          "metadata": {}
        }
      ]
    }
  ]
}