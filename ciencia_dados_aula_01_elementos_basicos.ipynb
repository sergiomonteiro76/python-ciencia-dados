{
  "nbformat": 4,
  "nbformat_minor": 0,
  "metadata": {
    "colab": {
      "provenance": [],
      "collapsed_sections": []
    },
    "kernelspec": {
      "name": "python3",
      "display_name": "Python 3"
    },
    "language_info": {
      "name": "python"
    }
  },
  "cells": [
    {
      "cell_type": "markdown",
      "source": [
        "#**Elementos básicos da linguagem Python**\n",
        "\n",
        "\n",
        "**prof: Sérgio Assunção Monteiro, D.Sc**\n",
        "\n",
        "**linkedin:** https://www.linkedin.com/in/sergio-assun%C3%A7%C3%A3o-monteiro-b781897b/"
      ],
      "metadata": {
        "id": "toIxOntd4W9N"
      }
    },
    {
      "cell_type": "markdown",
      "source": [
        "# **Olá, Mundo!**"
      ],
      "metadata": {
        "id": "F6Nc5PgP4lfu"
      }
    },
    {
      "cell_type": "code",
      "execution_count": 20,
      "metadata": {
        "id": "Iy9XcXD74JZT",
        "colab": {
          "base_uri": "https://localhost:8080/"
        },
        "outputId": "f2c12a80-b0d2-42a4-d1b6-a10b82d33a54"
      },
      "outputs": [
        {
          "output_type": "stream",
          "name": "stdout",
          "text": [
            "Olá, Mundo!\n"
          ]
        }
      ],
      "source": [
        "print(\"Olá, Mundo!\")"
      ]
    },
    {
      "cell_type": "markdown",
      "source": [
        "## **Saída de dados**"
      ],
      "metadata": {
        "id": "QqDYARfb4rSS"
      }
    },
    {
      "cell_type": "code",
      "source": [
        "print(12345)\n",
        "print('valor',12345)\n",
        "print('valor = {}'.format(12345))\n",
        "print(f'valor = {12345}')\n",
        "print(\"valor\",12345)\n",
        "print(\"valor = {}\".format(12345))\n",
        "print(f\"valor = {12345}\")"
      ],
      "metadata": {
        "id": "pJq_CnCG4tXX"
      },
      "execution_count": null,
      "outputs": []
    },
    {
      "cell_type": "markdown",
      "source": [
        "# **Exemplo do uso de variáveis**"
      ],
      "metadata": {
        "id": "Dw0PcuZI45AC"
      }
    },
    {
      "cell_type": "markdown",
      "source": [
        "**String**"
      ],
      "metadata": {
        "id": "o8ouBOwW5C-6"
      }
    },
    {
      "cell_type": "code",
      "source": [
        "nome = 'exemplo de string em Python'\n",
        "print(nome)\n",
        "print('valor da variável nome = {}'.format(nome))\n",
        "print(f'valor da variável nome = {nome}')\n",
        "print(f\"valor da variável nome = {nome}\")"
      ],
      "metadata": {
        "colab": {
          "base_uri": "https://localhost:8080/"
        },
        "id": "xWDpVMDa46IJ",
        "outputId": "6264cc7e-f737-4977-e460-07648e8cd3a0"
      },
      "execution_count": null,
      "outputs": [
        {
          "output_type": "stream",
          "name": "stdout",
          "text": [
            "exemplo de string em Python\n",
            "valor da variável nome = exemplo de string em Python\n",
            "valor da variável nome = exemplo de string em Python\n",
            "valor da variável nome = exemplo de string em Python\n"
          ]
        }
      ]
    },
    {
      "cell_type": "markdown",
      "source": [
        "**Numérica**"
      ],
      "metadata": {
        "id": "5uWDeS865FZS"
      }
    },
    {
      "cell_type": "code",
      "source": [
        "numero = 11062022\n",
        "print(numero)\n",
        "print('valor da variável numero = {}'.format(numero))\n",
        "print(f'valor da variável numero = {numero}')"
      ],
      "metadata": {
        "colab": {
          "base_uri": "https://localhost:8080/"
        },
        "id": "GyjwvZfE5HLa",
        "outputId": "2baff24a-bee6-42b0-af0e-69346e1895ac"
      },
      "execution_count": null,
      "outputs": [
        {
          "output_type": "stream",
          "name": "stdout",
          "text": [
            "11062022\n",
            "valor da variável numero = 11062022\n",
            "valor da variável numero = 11062022\n"
          ]
        }
      ]
    },
    {
      "cell_type": "markdown",
      "source": [
        "# **Entrada de dados pelo teclado**"
      ],
      "metadata": {
        "id": "Sz7V48RF5KeZ"
      }
    },
    {
      "cell_type": "code",
      "source": [
        "valor = int(input(\"Entre com um número: \"))"
      ],
      "metadata": {
        "id": "8-HW6SMl5Qdx",
        "colab": {
          "base_uri": "https://localhost:8080/"
        },
        "outputId": "eb4b199b-c2a6-4816-f5c4-c953882c448c"
      },
      "execution_count": 9,
      "outputs": [
        {
          "name": "stdout",
          "output_type": "stream",
          "text": [
            "Entre com um número: 10\n"
          ]
        }
      ]
    },
    {
      "cell_type": "markdown",
      "source": [
        "# **Comandos Condicionais**"
      ],
      "metadata": {
        "id": "BEvEHwyd5X7h"
      }
    },
    {
      "cell_type": "markdown",
      "source": [
        "**Exemplo 01**"
      ],
      "metadata": {
        "id": "pxK1ySGB5jr5"
      }
    },
    {
      "cell_type": "code",
      "source": [
        "a = 250\n",
        "if a < 100:\n",
        "  a = a + 7\n",
        "print(f'a = {a}')"
      ],
      "metadata": {
        "id": "4NADgmJR5q_D",
        "colab": {
          "base_uri": "https://localhost:8080/"
        },
        "outputId": "9c49d9aa-d36e-44a3-96e9-2a3bde561dc4"
      },
      "execution_count": 10,
      "outputs": [
        {
          "output_type": "stream",
          "name": "stdout",
          "text": [
            "a = 250\n"
          ]
        }
      ]
    },
    {
      "cell_type": "markdown",
      "source": [
        "**Exemplo 02**"
      ],
      "metadata": {
        "id": "qmq1Mtvj5gph"
      }
    },
    {
      "cell_type": "code",
      "source": [
        "a = 780\n",
        "if(a%2 == 0):\n",
        "  print(f'{a} é par')\n",
        "else:\n",
        "  print(f'{a} é ímpar')"
      ],
      "metadata": {
        "id": "vlxbanHd5iRS",
        "colab": {
          "base_uri": "https://localhost:8080/"
        },
        "outputId": "d7471c16-490c-44c7-c0ac-5d78cbe04daa"
      },
      "execution_count": 11,
      "outputs": [
        {
          "output_type": "stream",
          "name": "stdout",
          "text": [
            "780 é par\n"
          ]
        }
      ]
    },
    {
      "cell_type": "markdown",
      "source": [
        "# **Comandos Iterativos**"
      ],
      "metadata": {
        "id": "qeBn9Dsv5725"
      }
    },
    {
      "cell_type": "markdown",
      "source": [
        "**Exemplo 01**"
      ],
      "metadata": {
        "id": "u6Ju9Wh_6C-B"
      }
    },
    {
      "cell_type": "code",
      "source": [
        "contador=0\n",
        "s = ''\n",
        "while (contador < 10):\n",
        "  s = s + str(contador)+ ' '\n",
        "  contador = contador + 1\n",
        "print(s)"
      ],
      "metadata": {
        "id": "nFH-3pGl5_3Y",
        "colab": {
          "base_uri": "https://localhost:8080/"
        },
        "outputId": "8332f25f-e67f-432c-d12e-ae879ded179e"
      },
      "execution_count": 12,
      "outputs": [
        {
          "output_type": "stream",
          "name": "stdout",
          "text": [
            "0 1 2 3 4 5 6 7 8 9 \n"
          ]
        }
      ]
    },
    {
      "cell_type": "markdown",
      "source": [
        "**Exemplo 02**"
      ],
      "metadata": {
        "id": "p2Srmx5V6HFg"
      }
    },
    {
      "cell_type": "code",
      "source": [
        "s = ''\n",
        "for contador in range(10):\n",
        "  s = s + str(contador)+ ' '  \n",
        "print(s)"
      ],
      "metadata": {
        "id": "AfKJiCox6JN4",
        "colab": {
          "base_uri": "https://localhost:8080/"
        },
        "outputId": "c9b60077-ad52-4938-87f2-a2dfd0ce5633"
      },
      "execution_count": 13,
      "outputs": [
        {
          "output_type": "stream",
          "name": "stdout",
          "text": [
            "0 1 2 3 4 5 6 7 8 9 \n"
          ]
        }
      ]
    },
    {
      "cell_type": "markdown",
      "source": [
        "# **Listas**"
      ],
      "metadata": {
        "id": "3CTH3yEI6MvA"
      }
    },
    {
      "cell_type": "markdown",
      "source": [
        "**Exemplo 01**"
      ],
      "metadata": {
        "id": "G3oa7wj76N-I"
      }
    },
    {
      "cell_type": "code",
      "source": [
        "lista = [101,202,303,404,505]\n",
        "print(lista)"
      ],
      "metadata": {
        "id": "8FN6H7036PrJ",
        "colab": {
          "base_uri": "https://localhost:8080/"
        },
        "outputId": "eb8baa92-5c05-49cc-b003-ac8112325b07"
      },
      "execution_count": 14,
      "outputs": [
        {
          "output_type": "stream",
          "name": "stdout",
          "text": [
            "[101, 202, 303, 404, 505]\n"
          ]
        }
      ]
    },
    {
      "cell_type": "markdown",
      "source": [
        "**Exemplo 02**"
      ],
      "metadata": {
        "id": "chLDd24X6U6o"
      }
    },
    {
      "cell_type": "code",
      "source": [
        "print(f'lista[0] = {lista[0]} e lista[3] = {lista[3]}')"
      ],
      "metadata": {
        "id": "_82zxNqF6UUQ",
        "colab": {
          "base_uri": "https://localhost:8080/"
        },
        "outputId": "2132a56d-5320-43b2-95b5-a2d87d907590"
      },
      "execution_count": 15,
      "outputs": [
        {
          "output_type": "stream",
          "name": "stdout",
          "text": [
            "lista[0] = 101 e lista[3] = 404\n"
          ]
        }
      ]
    },
    {
      "cell_type": "markdown",
      "source": [
        "**Exemplo 03**"
      ],
      "metadata": {
        "id": "YoN9axmI6aSJ"
      }
    },
    {
      "cell_type": "code",
      "source": [
        "#indexação explícita da lista\n",
        "n = len(lista)\n",
        "s = ''\n",
        "for i in range(n):\n",
        "  s = s + str(lista[i])+ ' '\n",
        "print(s)"
      ],
      "metadata": {
        "id": "3gx0o3b26c_Y",
        "colab": {
          "base_uri": "https://localhost:8080/"
        },
        "outputId": "8f515596-861f-40c2-cf43-82c4cf8ea016"
      },
      "execution_count": 16,
      "outputs": [
        {
          "output_type": "stream",
          "name": "stdout",
          "text": [
            "101 202 303 404 505 \n"
          ]
        }
      ]
    },
    {
      "cell_type": "markdown",
      "source": [
        "**Exemplo 04**"
      ],
      "metadata": {
        "id": "6q7OaGcu6fbR"
      }
    },
    {
      "cell_type": "code",
      "source": [
        "#paradigma funcional\n",
        "s = ''\n",
        "for a in lista:\n",
        "  s = s + str(a)+ ' '\n",
        "print(s)"
      ],
      "metadata": {
        "id": "9vLKGdKV6jHQ",
        "colab": {
          "base_uri": "https://localhost:8080/"
        },
        "outputId": "1b9ac9b0-e1f5-4cbb-de90-efe7e7028aff"
      },
      "execution_count": 17,
      "outputs": [
        {
          "output_type": "stream",
          "name": "stdout",
          "text": [
            "101 202 303 404 505 \n"
          ]
        }
      ]
    },
    {
      "cell_type": "markdown",
      "source": [
        "# **Funções**"
      ],
      "metadata": {
        "id": "_2hnu5Qi6msH"
      }
    },
    {
      "cell_type": "markdown",
      "source": [
        "**Exemplo 01**"
      ],
      "metadata": {
        "id": "i7GZ_5dX6qvo"
      }
    },
    {
      "cell_type": "code",
      "source": [
        "def encontrar_minimo(lista):\n",
        "  minimo = lista[0]\n",
        "  for elem in lista:\n",
        "    if(elem < minimo):\n",
        "      minimo = elem\n",
        "  return minimo"
      ],
      "metadata": {
        "id": "rIQ0HhGn6nvo"
      },
      "execution_count": 18,
      "outputs": []
    },
    {
      "cell_type": "code",
      "source": [
        "lista_teste = [2,10,3,1,4,5]\n",
        "menor = encontrar_minimo(lista_teste)\n",
        "print(\"O menor elemento da lista é:[{}]\".format(menor))"
      ],
      "metadata": {
        "id": "A8HtxEaH6wuo",
        "colab": {
          "base_uri": "https://localhost:8080/"
        },
        "outputId": "73d154fc-1ed3-4f2b-f6ea-fea6fb1acc85"
      },
      "execution_count": 21,
      "outputs": [
        {
          "output_type": "stream",
          "name": "stdout",
          "text": [
            "O menor elemento da lista é:[1]\n"
          ]
        }
      ]
    },
    {
      "cell_type": "markdown",
      "source": [
        "**Exemplo 02**"
      ],
      "metadata": {
        "id": "ZBL9fd046y_X"
      }
    },
    {
      "cell_type": "code",
      "source": [
        "def ehPar(n):\n",
        "  r = (n%2==0)\n",
        "  return r"
      ],
      "metadata": {
        "id": "_1oaCitG602Q"
      },
      "execution_count": null,
      "outputs": []
    },
    {
      "cell_type": "code",
      "source": [
        "def somar_par(lst):\n",
        "  soma=0\n",
        "  for num in lst:\n",
        "    if(ehPar(num)):\n",
        "      soma=soma+num\n",
        "  return soma"
      ],
      "metadata": {
        "id": "YZs2jUIk66GP"
      },
      "execution_count": null,
      "outputs": []
    },
    {
      "cell_type": "code",
      "source": [
        "lista = [10, 2, 5, 7, 6, 3]\n",
        "soma=somar_par(lista)\n",
        "print(f'O somatório dos elementos pares da lista é: {soma}')"
      ],
      "metadata": {
        "id": "pB7w_LQe68j3"
      },
      "execution_count": null,
      "outputs": []
    },
    {
      "cell_type": "markdown",
      "source": [
        "# **Try Except**"
      ],
      "metadata": {
        "id": "1GZgZi967Pyn"
      }
    },
    {
      "cell_type": "markdown",
      "source": [
        "**Exemplo 01**"
      ],
      "metadata": {
        "id": "ERaCK1F87TcA"
      }
    },
    {
      "cell_type": "code",
      "source": [
        "x = int(input(\"Digite um número: \"))"
      ],
      "metadata": {
        "id": "WXznuDq07Q4_"
      },
      "execution_count": null,
      "outputs": []
    },
    {
      "cell_type": "markdown",
      "source": [
        "**Exemplo 02**"
      ],
      "metadata": {
        "id": "9ql-2AYu7XXf"
      }
    },
    {
      "cell_type": "code",
      "source": [
        "try:\n",
        "  x = int(input(\"Digite um número: \"))\n",
        "except ValueError:\n",
        "  print(\"Entre com um número válido.\")"
      ],
      "metadata": {
        "id": "9nlNpoic7YOW"
      },
      "execution_count": null,
      "outputs": []
    },
    {
      "cell_type": "markdown",
      "source": [
        "**Exemplo 03**"
      ],
      "metadata": {
        "id": "agWgxVlO7bcO"
      }
    },
    {
      "cell_type": "code",
      "source": [
        "while True:\n",
        "  try:\n",
        "    x = int(input(\"Digite um número: \"))\n",
        "    break\n",
        "  except ValueError:\n",
        "    print(\"Entre com um número válido.\")"
      ],
      "metadata": {
        "id": "hqozd2HG7fS2",
        "colab": {
          "base_uri": "https://localhost:8080/"
        },
        "outputId": "1d1f3be5-0cf3-451d-9c24-97a036529bca"
      },
      "execution_count": 23,
      "outputs": [
        {
          "name": "stdout",
          "output_type": "stream",
          "text": [
            "Digite um número: a\n",
            "Entre com um número válido.\n",
            "Digite um número: b\n",
            "Entre com um número válido.\n",
            "Digite um número: 10\n"
          ]
        }
      ]
    },
    {
      "cell_type": "markdown",
      "source": [
        "**Exemplo 04**"
      ],
      "metadata": {
        "id": "qkxdMLGy7nLO"
      }
    },
    {
      "cell_type": "code",
      "source": [
        "def dividir(x, y):\n",
        "\ttry:\n",
        "\t\tresultado = x / y\n",
        "\t\tprint(\"A resposta é :\", resultado)\n",
        "\texcept ZeroDivisionError:\n",
        "\t\tprint(\"Divisão por zero \")"
      ],
      "metadata": {
        "id": "E7xnhiUw7o1X"
      },
      "execution_count": 22,
      "outputs": []
    },
    {
      "cell_type": "code",
      "source": [
        "#chamada 01\n",
        "dividir(3, 0)"
      ],
      "metadata": {
        "id": "tvR6F6Mf7scX",
        "colab": {
          "base_uri": "https://localhost:8080/"
        },
        "outputId": "87ce0424-79cf-4af2-e171-540ff659c3ee"
      },
      "execution_count": 24,
      "outputs": [
        {
          "output_type": "stream",
          "name": "stdout",
          "text": [
            "Divisão por zero \n"
          ]
        }
      ]
    },
    {
      "cell_type": "code",
      "source": [
        "#chamada 02\n",
        "dividir(3, 2)"
      ],
      "metadata": {
        "id": "fll0TToL7tDO",
        "colab": {
          "base_uri": "https://localhost:8080/"
        },
        "outputId": "fd4cdf34-e0b2-4d43-f01b-191761906c5e"
      },
      "execution_count": 25,
      "outputs": [
        {
          "output_type": "stream",
          "name": "stdout",
          "text": [
            "A resposta é : 1.5\n"
          ]
        }
      ]
    },
    {
      "cell_type": "markdown",
      "source": [
        "# **Geração de dados e Histograma**"
      ],
      "metadata": {
        "id": "3kJOQf8G8VBm"
      }
    },
    {
      "cell_type": "markdown",
      "source": [
        "**Gerar 1000 pontos seguindo a distribuição Normal\n",
        "com média 20 e desvio-padrão 2. Além disso, exiba os dados em um histograma.**"
      ],
      "metadata": {
        "id": "ok09pj1O8c-l"
      }
    },
    {
      "cell_type": "code",
      "source": [
        "import matplotlib.pyplot as plt\n",
        "import numpy as np\n",
        "np.random.seed(1)\n",
        "dados = np.random.normal(loc=20, scale=2, size=1000)\n",
        "plt.hist(dados, color = \"lightblue\", ec=\"red\")"
      ],
      "metadata": {
        "id": "frxX_kjO8aD_",
        "colab": {
          "base_uri": "https://localhost:8080/",
          "height": 356
        },
        "outputId": "412ef47e-1716-45fc-9505-d4889acecc05"
      },
      "execution_count": 26,
      "outputs": [
        {
          "output_type": "execute_result",
          "data": {
            "text/plain": [
              "(array([ 10.,  37., 103., 223., 286., 224.,  90.,  24.,   1.,   2.]),\n",
              " array([13.89247124, 15.29494466, 16.69741807, 18.09989149, 19.50236491,\n",
              "        20.90483832, 22.30731174, 23.70978516, 25.11225857, 26.51473199,\n",
              "        27.91720541]),\n",
              " <a list of 10 Patch objects>)"
            ]
          },
          "metadata": {},
          "execution_count": 26
        },
        {
          "output_type": "display_data",
          "data": {
            "text/plain": [
              "<Figure size 432x288 with 1 Axes>"
            ],
            "image/png": "[encoded data removed]"
          },
          "metadata": {
            "needs_background": "light"
          }
        }
      ]
    },
    {
      "cell_type": "markdown",
      "source": [
        "# **Distribuição Discreta**"
      ],
      "metadata": {
        "id": "PQ0DXxru9vTV"
      }
    },
    {
      "cell_type": "code",
      "source": [
        "import numpy as np\n",
        "import matplotlib.pyplot as plt\n",
        "import seaborn as sns\n",
        "\n",
        "QTD_SORTEIOS = 1000\n",
        "\n",
        "valores = [1, 2, 3, 4, 5, 6]\n",
        "amostra = np.random.choice(valores, QTD_SORTEIOS)\n",
        "\n",
        "lado, quantidade = np.unique(amostra, return_counts=True)\n",
        "probabilidades = quantidade / len(amostra)\n",
        "\n",
        "sns.barplot(x=lado, y=probabilidades)\n",
        "plt.title(\n",
        "    f\"Distribuição de Probabilidade Discreta para dados honestos de 6 faces para {QTD_SORTEIOS} sorteios\")\n",
        "plt.ylabel(\"Probabilidade\")\n",
        "plt.xlabel(\"Resultado\")\n",
        "plt.show()"
      ],
      "metadata": {
        "id": "OrMidC5i9zQM",
        "colab": {
          "base_uri": "https://localhost:8080/",
          "height": 295
        },
        "outputId": "da85acb2-627c-4c27-acdf-ec80ff646098"
      },
      "execution_count": 27,
      "outputs": [
        {
          "output_type": "display_data",
          "data": {
            "text/plain": [
              "<Figure size 432x288 with 1 Axes>"
            ],
            "image/png": "[encoded data removed]"
          },
          "metadata": {
            "needs_background": "light"
          }
        }
      ]
    },
    {
      "cell_type": "markdown",
      "source": [
        "# **Exercício**"
      ],
      "metadata": {
        "id": "kOZTYNoR8IwX"
      }
    },
    {
      "cell_type": "markdown",
      "source": [
        "Implementar um programa em python que receba como entrada uma lista de números e um valor e produza como saída os pares de números da lista que somados resultam no valor de entrada.\n",
        "\n",
        "**Exemplo 01:**\n",
        "\n",
        "**Entrada**: lista1 = [1, 5, 7, -1], soma = 6\n",
        "\n",
        "**Saída**: 2 Pares com soma 6 são (1, 5) e (7, -1)\n",
        "\n",
        "**Exemplo 02:**\n",
        "\n",
        "**Entrada:** lista2 = [1, 5, 7, -1, 5], soma = 6\n",
        "\n",
        "**Saída:** 3 Pares com soma 6 são (1, 5), (7, -1) e (1, 5)"
      ],
      "metadata": {
        "id": "3rRkjENv8olF"
      }
    }
  ]
}